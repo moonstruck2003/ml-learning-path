{
 "cells": [
  {
   "cell_type": "code",
   "execution_count": 2,
   "id": "f8eb44e6-3337-4a35-b733-807f872e3991",
   "metadata": {},
   "outputs": [],
   "source": [
    "#Importing the dependencies \n",
    "import numpy as np\n",
    "import pandas as pd\n",
    "from sklearn.preprocessing import StandardScaler\n",
    "from sklearn.model_selection import train_test_split"
   ]
  },
  {
   "cell_type": "code",
   "execution_count": 3,
   "id": "66e0b1fb-fcd3-4f67-9b83-beb2d3c51729",
   "metadata": {},
   "outputs": [],
   "source": [
    "#Data collection and pre processing\n",
    "#load our data to a pandas dataframe\n",
    "diabetes_data  = pd.read_csv(\"diabetes.csv\")"
   ]
  },
  {
   "cell_type": "code",
   "execution_count": 4,
   "id": "2c82b085-af79-467c-803b-0541177cf86b",
   "metadata": {},
   "outputs": [
    {
     "data": {
      "text/html": [
       "<div>\n",
       "<style scoped>\n",
       "    .dataframe tbody tr th:only-of-type {\n",
       "        vertical-align: middle;\n",
       "    }\n",
       "\n",
       "    .dataframe tbody tr th {\n",
       "        vertical-align: top;\n",
       "    }\n",
       "\n",
       "    .dataframe thead th {\n",
       "        text-align: right;\n",
       "    }\n",
       "</style>\n",
       "<table border=\"1\" class=\"dataframe\">\n",
       "  <thead>\n",
       "    <tr style=\"text-align: right;\">\n",
       "      <th></th>\n",
       "      <th>Pregnancies</th>\n",
       "      <th>Glucose</th>\n",
       "      <th>BloodPressure</th>\n",
       "      <th>SkinThickness</th>\n",
       "      <th>Insulin</th>\n",
       "      <th>BMI</th>\n",
       "      <th>DiabetesPedigreeFunction</th>\n",
       "      <th>Age</th>\n",
       "      <th>Outcome</th>\n",
       "    </tr>\n",
       "  </thead>\n",
       "  <tbody>\n",
       "    <tr>\n",
       "      <th>0</th>\n",
       "      <td>6</td>\n",
       "      <td>148</td>\n",
       "      <td>72</td>\n",
       "      <td>35</td>\n",
       "      <td>0</td>\n",
       "      <td>33.6</td>\n",
       "      <td>0.627</td>\n",
       "      <td>50</td>\n",
       "      <td>1</td>\n",
       "    </tr>\n",
       "    <tr>\n",
       "      <th>1</th>\n",
       "      <td>1</td>\n",
       "      <td>85</td>\n",
       "      <td>66</td>\n",
       "      <td>29</td>\n",
       "      <td>0</td>\n",
       "      <td>26.6</td>\n",
       "      <td>0.351</td>\n",
       "      <td>31</td>\n",
       "      <td>0</td>\n",
       "    </tr>\n",
       "    <tr>\n",
       "      <th>2</th>\n",
       "      <td>8</td>\n",
       "      <td>183</td>\n",
       "      <td>64</td>\n",
       "      <td>0</td>\n",
       "      <td>0</td>\n",
       "      <td>23.3</td>\n",
       "      <td>0.672</td>\n",
       "      <td>32</td>\n",
       "      <td>1</td>\n",
       "    </tr>\n",
       "    <tr>\n",
       "      <th>3</th>\n",
       "      <td>1</td>\n",
       "      <td>89</td>\n",
       "      <td>66</td>\n",
       "      <td>23</td>\n",
       "      <td>94</td>\n",
       "      <td>28.1</td>\n",
       "      <td>0.167</td>\n",
       "      <td>21</td>\n",
       "      <td>0</td>\n",
       "    </tr>\n",
       "    <tr>\n",
       "      <th>4</th>\n",
       "      <td>0</td>\n",
       "      <td>137</td>\n",
       "      <td>40</td>\n",
       "      <td>35</td>\n",
       "      <td>168</td>\n",
       "      <td>43.1</td>\n",
       "      <td>2.288</td>\n",
       "      <td>33</td>\n",
       "      <td>1</td>\n",
       "    </tr>\n",
       "  </tbody>\n",
       "</table>\n",
       "</div>"
      ],
      "text/plain": [
       "   Pregnancies  Glucose  BloodPressure  SkinThickness  Insulin   BMI  DiabetesPedigreeFunction  Age  Outcome\n",
       "0            6      148             72             35        0  33.6                     0.627   50        1\n",
       "1            1       85             66             29        0  26.6                     0.351   31        0\n",
       "2            8      183             64              0        0  23.3                     0.672   32        1\n",
       "3            1       89             66             23       94  28.1                     0.167   21        0\n",
       "4            0      137             40             35      168  43.1                     2.288   33        1"
      ]
     },
     "execution_count": 4,
     "metadata": {},
     "output_type": "execute_result"
    }
   ],
   "source": [
    "#first five row\n",
    "diabetes_data.head()"
   ]
  },
  {
   "cell_type": "code",
   "execution_count": 5,
   "id": "6d84c68d-b1eb-47d5-a278-4863922922cf",
   "metadata": {},
   "outputs": [
    {
     "data": {
      "text/plain": [
       "(768, 9)"
      ]
     },
     "execution_count": 5,
     "metadata": {},
     "output_type": "execute_result"
    }
   ],
   "source": [
    "#processing the data before feeding it to ml\n",
    "#no of rows and column\n",
    "diabetes_data.shape"
   ]
  },
  {
   "cell_type": "code",
   "execution_count": 7,
   "id": "e2772975-811b-4a78-9ebc-3ca12b3257af",
   "metadata": {},
   "outputs": [
    {
     "name": "stdout",
     "output_type": "stream",
     "text": [
      "     Pregnancies  Glucose  BloodPressure  SkinThickness  Insulin   BMI  DiabetesPedigreeFunction  Age\n",
      "0              6      148             72             35        0  33.6                     0.627   50\n",
      "1              1       85             66             29        0  26.6                     0.351   31\n",
      "2              8      183             64              0        0  23.3                     0.672   32\n",
      "3              1       89             66             23       94  28.1                     0.167   21\n",
      "4              0      137             40             35      168  43.1                     2.288   33\n",
      "..           ...      ...            ...            ...      ...   ...                       ...  ...\n",
      "763           10      101             76             48      180  32.9                     0.171   63\n",
      "764            2      122             70             27        0  36.8                     0.340   27\n",
      "765            5      121             72             23      112  26.2                     0.245   30\n",
      "766            1      126             60              0        0  30.1                     0.349   47\n",
      "767            1       93             70             31        0  30.4                     0.315   23\n",
      "\n",
      "[768 rows x 8 columns]\n"
     ]
    }
   ],
   "source": [
    "#separating features and target\n",
    "x = diabetes_data.drop(columns='Outcome', axis = 1)\n",
    "y = diabetes_data['Outcome']\n",
    "print(x)"
   ]
  },
  {
   "cell_type": "code",
   "execution_count": 8,
   "id": "7b37049c-9ca8-4bfa-b369-0017c103ac9c",
   "metadata": {},
   "outputs": [
    {
     "name": "stdout",
     "output_type": "stream",
     "text": [
      "0      1\n",
      "1      0\n",
      "2      1\n",
      "3      0\n",
      "4      1\n",
      "      ..\n",
      "763    0\n",
      "764    0\n",
      "765    0\n",
      "766    1\n",
      "767    0\n",
      "Name: Outcome, Length: 768, dtype: int64\n"
     ]
    }
   ],
   "source": [
    "print(y)"
   ]
  },
  {
   "cell_type": "code",
   "execution_count": 9,
   "id": "202bcab7-6440-4c44-8bf7-335cdfedc8ce",
   "metadata": {},
   "outputs": [],
   "source": [
    "# 0 ------> non diabetic\n",
    "# 1 ------> diabetic\n",
    "#data standardization\n",
    "# now standardizing the values for a common range,cz every column value has different range\n",
    "# standardizing the data before splitting it into training and test, or vice versa\n",
    "\n",
    "scaler = StandardScaler()"
   ]
  },
  {
   "cell_type": "code",
   "execution_count": 12,
   "id": "25e7263e-50f1-432f-a236-85424fcc32af",
   "metadata": {},
   "outputs": [],
   "source": [
    "standardized_data = scaler.fit_transform(x) # y kora lagbena cz already 0,1 form e ase|"
   ]
  },
  {
   "cell_type": "code",
   "execution_count": 13,
   "id": "bd1bc88f-90e0-4352-a003-c203ff4cfac6",
   "metadata": {},
   "outputs": [],
   "source": [
    "#putting the standardized data into x to replace the data \n",
    "x = standardized_data"
   ]
  },
  {
   "cell_type": "code",
   "execution_count": 15,
   "id": "e1a9c189-a159-45a2-94cf-c560071d7b8f",
   "metadata": {},
   "outputs": [],
   "source": [
    "#before feeding the data to ml algo, we have to train and test the data\n",
    "#Splitting the dataset into Training data and testing data, common for all the projects\n",
    "x_train,x_test, y_train, y_test =  train_test_split(x,y,test_size = 0.2, random_state=42)\n",
    "# x_train = training data features\n",
    "# y_train = outcome of the x_train ex: outcome 0 ,1 ,2, 3, 4.... are x_train and 0 ,1 is y_train"
   ]
  },
  {
   "cell_type": "code",
   "execution_count": 16,
   "id": "dcfe09c6-9e75-488b-ab81-95180ec6048d",
   "metadata": {},
   "outputs": [
    {
     "name": "stdout",
     "output_type": "stream",
     "text": [
      "(768, 8) (614, 8) (154, 8)\n"
     ]
    }
   ],
   "source": [
    "print(x.shape, x_train.shape, x_test.shape)"
   ]
  },
  {
   "cell_type": "code",
   "execution_count": null,
   "id": "161369f3-930c-4d18-b3b9-5c98cf3863e3",
   "metadata": {},
   "outputs": [],
   "source": []
  }
 ],
 "metadata": {
  "kernelspec": {
   "display_name": "Python 3 (ipykernel)",
   "language": "python",
   "name": "python3"
  },
  "language_info": {
   "codemirror_mode": {
    "name": "ipython",
    "version": 3
   },
   "file_extension": ".py",
   "mimetype": "text/x-python",
   "name": "python",
   "nbconvert_exporter": "python",
   "pygments_lexer": "ipython3",
   "version": "3.13.0"
  }
 },
 "nbformat": 4,
 "nbformat_minor": 5
}

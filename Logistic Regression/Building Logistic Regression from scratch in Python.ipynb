{
 "cells": [
  {
   "cell_type": "code",
   "execution_count": null,
   "id": "6da63e75-4636-4454-8ce7-ff1f939f0cc7",
   "metadata": {},
   "outputs": [],
   "source": [
    "Logistic Regression:\n",
    "Y_hat --> predicted value\n",
    "\n",
    "X --> Input Variable\n",
    "\n",
    "w --> weight\n",
    "\n",
    "b --> bias\n",
    "\n",
    "Gradient Descent:\n",
    "\n",
    "Gradient Descent is an optimization algorithm used for minimizing the loss function in various machine learning algorithms. It is used for updating the parameters of the learning model.\n",
    "\n",
    "w = w - α*dw\n",
    "\n",
    "b = b - α*db\n",
    "\n",
    "Learning Rate:\n",
    "\n",
    "Learning rate is a tuning parameter in an optimization algorithm that determines the step size at each iteration while moving toward a minimum of a loss function.\n",
    "\n"
   ]
  },
  {
   "cell_type": "code",
   "execution_count": 1,
   "id": "fb039aa0-695e-4ea8-abc2-0e75a686a640",
   "metadata": {},
   "outputs": [],
   "source": [
    "#importing the dependencies \n",
    "import numpy as np"
   ]
  },
  {
   "cell_type": "code",
   "execution_count": null,
   "id": "6eab547b-0e8b-416f-bb5a-2fd5e358479b",
   "metadata": {},
   "outputs": [],
   "source": [
    "Work Flow of the Logistic Regression Model:\n",
    "\n",
    "step 1 : Set Learning rate and number of iterations; initiate Random weight and bias\n",
    "step 2 : Build Logistic Regression function. (sigmoid fun ction)\n",
    "step 3 : update the parameters using gradient descent \n",
    "finally we will get the best model (best weight and bias value) as it has minimum cost function\n",
    "\n",
    "step 4 : build the predict function to determine the class of the data point."
   ]
  },
  {
   "cell_type": "code",
   "execution_count": null,
   "id": "eb78b8e4-4ea8-436b-813f-9b03d98d699b",
   "metadata": {},
   "outputs": [],
   "source": [
    "#Logistic Regression\n",
    "class Logistric_Regression():\n",
    "\n",
    "    def __init__():\n",
    "\n",
    "    def fit():\n",
    "\n",
    "    def update_weights():\n",
    "\n",
    "    def predict():"
   ]
  }
 ],
 "metadata": {
  "kernelspec": {
   "display_name": "Python 3 (ipykernel)",
   "language": "python",
   "name": "python3"
  },
  "language_info": {
   "codemirror_mode": {
    "name": "ipython",
    "version": 3
   },
   "file_extension": ".py",
   "mimetype": "text/x-python",
   "name": "python",
   "nbconvert_exporter": "python",
   "pygments_lexer": "ipython3",
   "version": "3.13.0"
  }
 },
 "nbformat": 4,
 "nbformat_minor": 5
}

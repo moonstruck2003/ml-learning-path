{
 "cells": [
  {
   "cell_type": "code",
   "execution_count": 1,
   "id": "2285327e-1307-49fa-ac86-833485a9e434",
   "metadata": {},
   "outputs": [],
   "source": [
    "#importing the dependencies\n",
    "import numpy as np\n",
    "import pandas as pd\n",
    "file_path = r\"C:\\Users\\MRIDUL\\Desktop\\ML\\credit_data.csv\"\n",
    "credit_card_data = pd.read_csv(file_path)\n"
   ]
  },
  {
   "cell_type": "code",
   "execution_count": null,
   "id": "974ebf3c-da07-4d1d-86ef-c296854a3f85",
   "metadata": {},
   "outputs": [],
   "source": []
  }
 ],
 "metadata": {
  "kernelspec": {
   "display_name": "Python 3 (ipykernel)",
   "language": "python",
   "name": "python3"
  },
  "language_info": {
   "codemirror_mode": {
    "name": "ipython",
    "version": 3
   },
   "file_extension": ".py",
   "mimetype": "text/x-python",
   "name": "python",
   "nbconvert_exporter": "python",
   "pygments_lexer": "ipython3",
   "version": "3.13.0"
  }
 },
 "nbformat": 4,
 "nbformat_minor": 5
}

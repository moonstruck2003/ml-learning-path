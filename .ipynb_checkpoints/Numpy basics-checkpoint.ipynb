{
 "cells": [
  {
   "cell_type": "code",
   "execution_count": 1,
   "id": "354c3dde-3036-434b-a36c-adb18a270fa7",
   "metadata": {},
   "outputs": [
    {
     "ename": "ModuleNotFoundError",
     "evalue": "No module named 'numpy'",
     "output_type": "error",
     "traceback": [
      "\u001b[1;31m---------------------------------------------------------------------------\u001b[0m",
      "\u001b[1;31mModuleNotFoundError\u001b[0m                       Traceback (most recent call last)",
      "Cell \u001b[1;32mIn[1], line 1\u001b[0m\n\u001b[1;32m----> 1\u001b[0m \u001b[38;5;28;01mimport\u001b[39;00m \u001b[38;5;21;01mnumpy\u001b[39;00m \u001b[38;5;28;01mas\u001b[39;00m \u001b[38;5;21;01mnp\u001b[39;00m\n",
      "\u001b[1;31mModuleNotFoundError\u001b[0m: No module named 'numpy'"
     ]
    }
   ],
   "source": [
    "import numpy as np"
   ]
  },
  {
   "cell_type": "code",
   "execution_count": 2,
   "id": "5fd1dd84-9d73-4bf3-8ad4-737f819ad2fc",
   "metadata": {},
   "outputs": [
    {
     "ename": "ModuleNotFoundError",
     "evalue": "No module named 'numpy'",
     "output_type": "error",
     "traceback": [
      "\u001b[1;31m---------------------------------------------------------------------------\u001b[0m",
      "\u001b[1;31mModuleNotFoundError\u001b[0m                       Traceback (most recent call last)",
      "Cell \u001b[1;32mIn[2], line 1\u001b[0m\n\u001b[1;32m----> 1\u001b[0m \u001b[38;5;28;01mimport\u001b[39;00m \u001b[38;5;21;01mnumpy\u001b[39;00m \u001b[38;5;28;01mas\u001b[39;00m \u001b[38;5;21;01mnp\u001b[39;00m\n",
      "\u001b[1;31mModuleNotFoundError\u001b[0m: No module named 'numpy'"
     ]
    }
   ],
   "source": [
    "import numpy as np"
   ]
  },
  {
   "cell_type": "code",
   "execution_count": 3,
   "id": "bf7ffab1-c49f-4c16-a121-7e809cb0f45c",
   "metadata": {},
   "outputs": [
    {
     "name": "stdout",
     "output_type": "stream",
     "text": [
      "Collecting numpy\n",
      "  Downloading numpy-2.1.3-cp313-cp313-win_amd64.whl.metadata (60 kB)\n",
      "Downloading numpy-2.1.3-cp313-cp313-win_amd64.whl (12.6 MB)\n",
      "   ---------------------------------------- 0.0/12.6 MB ? eta -:--:--\n",
      "   ---- ----------------------------------- 1.3/12.6 MB 6.9 MB/s eta 0:00:02\n",
      "   ---------- ----------------------------- 3.4/12.6 MB 8.8 MB/s eta 0:00:02\n",
      "   ---------------- ----------------------- 5.2/12.6 MB 9.2 MB/s eta 0:00:01\n",
      "   ---------------------- ----------------- 7.1/12.6 MB 8.9 MB/s eta 0:00:01\n",
      "   --------------------------- ------------ 8.7/12.6 MB 8.6 MB/s eta 0:00:01\n",
      "   -------------------------------- ------- 10.2/12.6 MB 8.4 MB/s eta 0:00:01\n",
      "   ------------------------------------- -- 11.8/12.6 MB 8.3 MB/s eta 0:00:01\n",
      "   ---------------------------------------- 12.6/12.6 MB 8.1 MB/s eta 0:00:00\n",
      "Installing collected packages: numpy\n",
      "Successfully installed numpy-2.1.3\n",
      "Note: you may need to restart the kernel to use updated packages.\n"
     ]
    },
    {
     "name": "stderr",
     "output_type": "stream",
     "text": [
      "\n",
      "[notice] A new release of pip is available: 24.2 -> 24.3.1\n",
      "[notice] To update, run: python.exe -m pip install --upgrade pip\n"
     ]
    }
   ],
   "source": [
    "pip install numpy\n"
   ]
  },
  {
   "cell_type": "code",
   "execution_count": 4,
   "id": "c5e4dbd0-4129-4a8b-ace6-5365576f2007",
   "metadata": {},
   "outputs": [
    {
     "ename": "SyntaxError",
     "evalue": "invalid syntax (1565461912.py, line 1)",
     "output_type": "error",
     "traceback": [
      "\u001b[1;36m  Cell \u001b[1;32mIn[4], line 1\u001b[1;36m\u001b[0m\n\u001b[1;33m    python -c \"import numpy; print(numpy.__version__)\"\u001b[0m\n\u001b[1;37m              ^\u001b[0m\n\u001b[1;31mSyntaxError\u001b[0m\u001b[1;31m:\u001b[0m invalid syntax\n"
     ]
    }
   ],
   "source": [
    "python -c \"import numpy; print(numpy.__version__)\""
   ]
  },
  {
   "cell_type": "code",
   "execution_count": 5,
   "id": "140a4bd2-63ab-4370-b28f-9dc0cabd4f29",
   "metadata": {},
   "outputs": [],
   "source": [
    "import numpy as np"
   ]
  },
  {
   "cell_type": "code",
   "execution_count": 18,
   "id": "ac68d3eb-8bbd-4fa8-9e42-c15780a45436",
   "metadata": {},
   "outputs": [
    {
     "name": "stdout",
     "output_type": "stream",
     "text": [
      "0.03125\n"
     ]
    }
   ],
   "source": [
    "#time taken by list and numpy \n",
    "#list\n",
    "from time import process_time\n",
    "python_list = [i for i in range(1000000)]\n",
    "\n",
    "start_time = process_time()\n",
    "\n",
    "python_list = [i+5 for i in python_list]\n",
    "\n",
    "end_time = process_time()\n",
    "\n",
    "print(end_time - start_time)"
   ]
  },
  {
   "cell_type": "code",
   "execution_count": 21,
   "id": "db0cd1a5-0872-41b1-a443-b18bbe69aef3",
   "metadata": {},
   "outputs": [
    {
     "name": "stdout",
     "output_type": "stream",
     "text": [
      "0.015625\n"
     ]
    }
   ],
   "source": [
    " #numpy\n",
    "np_array = np.array([i for i in range(1000000)])\n",
    "\n",
    "start_time = process_time()\n",
    "\n",
    "np_array += 5  \n",
    "\n",
    "end_time = process_time()\n",
    "\n",
    "print(end_time - start_time)"
   ]
  },
  {
   "cell_type": "code",
   "execution_count": 22,
   "id": "162a3d35-cbba-4cca-bf81-6473059ec6af",
   "metadata": {},
   "outputs": [
    {
     "name": "stdout",
     "output_type": "stream",
     "text": [
      "[1, 2, 3, 4, 5]\n"
     ]
    },
    {
     "data": {
      "text/plain": [
       "list"
      ]
     },
     "execution_count": 22,
     "metadata": {},
     "output_type": "execute_result"
    }
   ],
   "source": [
    "#numpy arrays\n",
    "\n",
    "list1 = [1,2,3,4,5] \n",
    "print(list1)\n",
    "type(list1)"
   ]
  },
  {
   "cell_type": "code",
   "execution_count": 24,
   "id": "ffd94d26-a700-4720-ba1a-1ee0d3edd156",
   "metadata": {},
   "outputs": [
    {
     "name": "stdout",
     "output_type": "stream",
     "text": [
      "[1 2 3 4 5]\n"
     ]
    },
    {
     "data": {
      "text/plain": [
       "numpy.ndarray"
      ]
     },
     "execution_count": 24,
     "metadata": {},
     "output_type": "execute_result"
    }
   ],
   "source": [
    "np_array  = np.array([1,2,3,4,5])\n",
    "print(np_array)\n",
    "type(np_array)"
   ]
  },
  {
   "cell_type": "code",
   "execution_count": 25,
   "id": "e18981e5-6877-4166-8c11-41dd79b63d65",
   "metadata": {},
   "outputs": [
    {
     "name": "stdout",
     "output_type": "stream",
     "text": [
      "[1 2 3 4]\n"
     ]
    }
   ],
   "source": [
    "#creating a 1D array\n",
    "a = np.array([1,2,3,4])\n",
    "print(a)"
   ]
  },
  {
   "cell_type": "code",
   "execution_count": 26,
   "id": "7113ee26-2ef8-48b9-a316-19b71a84f43a",
   "metadata": {},
   "outputs": [
    {
     "data": {
      "text/plain": [
       "(4,)"
      ]
     },
     "execution_count": 26,
     "metadata": {},
     "output_type": "execute_result"
    }
   ],
   "source": [
    "a.shape"
   ]
  },
  {
   "cell_type": "code",
   "execution_count": 30,
   "id": "9d82c28f-4568-4c61-8317-c2e020efa3a4",
   "metadata": {},
   "outputs": [
    {
     "data": {
      "text/plain": [
       "(2, 4)"
      ]
     },
     "execution_count": 30,
     "metadata": {},
     "output_type": "execute_result"
    }
   ],
   "source": [
    "#2d array\n",
    "b = np.array([(1,3,4,5),(3,5,6,4)])\n",
    "b.shape"
   ]
  },
  {
   "cell_type": "code",
   "execution_count": 32,
   "id": "b9a4970d-d65d-43ce-9b64-bbfd6b622b37",
   "metadata": {},
   "outputs": [
    {
     "name": "stdout",
     "output_type": "stream",
     "text": [
      "[[1. 2. 3. 4.]\n",
      " [5. 7. 7. 8.]]\n"
     ]
    }
   ],
   "source": [
    "#float type\n",
    "c = np.array([(1,2,3,4),(5,7,7,8)],dtype=float)\n",
    "print(c)"
   ]
  },
  {
   "cell_type": "code",
   "execution_count": 34,
   "id": "d70be611-3014-4287-934a-1f3427b7a1b8",
   "metadata": {},
   "outputs": [
    {
     "name": "stdout",
     "output_type": "stream",
     "text": [
      "[[0. 0. 0. 0. 0.]\n",
      " [0. 0. 0. 0. 0.]\n",
      " [0. 0. 0. 0. 0.]\n",
      " [0. 0. 0. 0. 0.]]\n"
     ]
    }
   ],
   "source": [
    "#initials placeholders in numpy\n",
    "#create a numpy array of zeros\n",
    "x = np.zeros((4,5))\n",
    "print(x)"
   ]
  },
  {
   "cell_type": "code",
   "execution_count": 35,
   "id": "e2bfaaf9-a284-4413-abee-491065dc659b",
   "metadata": {},
   "outputs": [
    {
     "name": "stdout",
     "output_type": "stream",
     "text": [
      "[[1. 1. 1.]\n",
      " [1. 1. 1.]\n",
      " [1. 1. 1.]]\n"
     ]
    }
   ],
   "source": [
    "#create numpy array as 1\n",
    "y = np.ones((3,3))\n",
    "print(y)"
   ]
  },
  {
   "cell_type": "code",
   "execution_count": 37,
   "id": "29031867-c170-4a81-be0d-79c275585043",
   "metadata": {},
   "outputs": [
    {
     "name": "stdout",
     "output_type": "stream",
     "text": [
      "[[10 10 10 10 10]\n",
      " [10 10 10 10 10]\n",
      " [10 10 10 10 10]\n",
      " [10 10 10 10 10]]\n"
     ]
    }
   ],
   "source": [
    "#array with any values\n",
    "z = np.full((4,5),10)\n",
    "print(z)"
   ]
  },
  {
   "cell_type": "code",
   "execution_count": 38,
   "id": "dfa426c6-ce33-41e2-a21e-5ec62d81f303",
   "metadata": {},
   "outputs": [
    {
     "name": "stdout",
     "output_type": "stream",
     "text": [
      "[[1. 0. 0. 0.]\n",
      " [0. 1. 0. 0.]\n",
      " [0. 0. 1. 0.]\n",
      " [0. 0. 0. 1.]]\n"
     ]
    }
   ],
   "source": [
    "#identity matrix\n",
    "a = np.eye(4)\n",
    "print(a)"
   ]
  },
  {
   "cell_type": "code",
   "execution_count": 40,
   "id": "b676f1b8-9fe3-40aa-9f5f-c0f308dc6462",
   "metadata": {},
   "outputs": [
    {
     "name": "stdout",
     "output_type": "stream",
     "text": [
      "[[0.13047755 0.1854976  0.36560069 0.07072703]\n",
      " [0.179982   0.33282874 0.61315312 0.91922246]\n",
      " [0.79242542 0.57753258 0.89702973 0.89921473]]\n"
     ]
    }
   ],
   "source": [
    "#array with random value\n",
    "#every value between 0 to 1\n",
    "b =  np.random.random((3,4))\n",
    "print(b)"
   ]
  },
  {
   "cell_type": "code",
   "execution_count": 41,
   "id": "d7e860d4-4665-4bd5-99cc-30b8fd079d5d",
   "metadata": {},
   "outputs": [
    {
     "name": "stdout",
     "output_type": "stream",
     "text": [
      "[[95 45 76 91 43]\n",
      " [64 86 37 12 88]\n",
      " [16 46 28 79 17]]\n"
     ]
    }
   ],
   "source": [
    "#random integar values array within a specific range\n",
    "\n",
    "c= np.random.randint(10,100,(3,5))\n",
    "print(c)"
   ]
  },
  {
   "cell_type": "code",
   "execution_count": 42,
   "id": "4360b67d-9c07-4cd7-86d2-19a8fd70528a",
   "metadata": {},
   "outputs": [
    {
     "name": "stdout",
     "output_type": "stream",
     "text": [
      "[10. 15. 20. 25. 30.]\n"
     ]
    }
   ],
   "source": [
    "#array if evenlt spaced values\n",
    "d = np.linspace(10,30,5)\n",
    "print(d)"
   ]
  },
  {
   "cell_type": "code",
   "execution_count": 43,
   "id": "cbcc7b91-56a7-4174-832f-074ef9f7c609",
   "metadata": {},
   "outputs": [
    {
     "name": "stdout",
     "output_type": "stream",
     "text": [
      "[10 15 20 25]\n"
     ]
    }
   ],
   "source": [
    "#array with evenly spaced values ---> specifying the steps\n",
    "\n",
    "e = np.arange(10,30,5)\n",
    "print(e)"
   ]
  },
  {
   "cell_type": "code",
   "execution_count": 44,
   "id": "e82bd722-5986-49f9-ada9-93c5d275070b",
   "metadata": {},
   "outputs": [
    {
     "name": "stdout",
     "output_type": "stream",
     "text": [
      "[10 20 30 40]\n"
     ]
    },
    {
     "data": {
      "text/plain": [
       "numpy.ndarray"
      ]
     },
     "execution_count": 44,
     "metadata": {},
     "output_type": "execute_result"
    }
   ],
   "source": [
    "#convert a list to numpy array\n",
    "list2 = [10,20,30,40]\n",
    "np_array = np.asarray(list2)\n",
    "print(np_array)\n",
    "type(np_array)\n"
   ]
  },
  {
   "cell_type": "code",
   "execution_count": 45,
   "id": "017c662a-1f66-4020-a28c-1a749f64a645",
   "metadata": {},
   "outputs": [
    {
     "name": "stdout",
     "output_type": "stream",
     "text": [
      "[[71 33 69 34 87]\n",
      " [31 44 24 58 24]\n",
      " [71 81 73 57 46]\n",
      " [42 29 24 56 60]\n",
      " [82 21 80 86 54]]\n",
      "(5, 5)\n",
      "2\n"
     ]
    }
   ],
   "source": [
    "#analysing a numpy array\n",
    "\n",
    "c= np.random.randint(10,90,(5,5))\n",
    "print(c)\n",
    "#array dimension\n",
    "print(c.shape)\n",
    "#number of dimension\n",
    "print(c.ndim)\n"
   ]
  },
  {
   "cell_type": "code",
   "execution_count": 46,
   "id": "7b4f4df9-ba88-4a57-be7b-2e781c727ca7",
   "metadata": {},
   "outputs": [
    {
     "name": "stdout",
     "output_type": "stream",
     "text": [
      "25\n"
     ]
    }
   ],
   "source": [
    " #no of elements\n",
    "print(c.size)"
   ]
  },
  {
   "cell_type": "code",
   "execution_count": 47,
   "id": "4f89bb94-bb53-4b5c-a3be-95dcd1d1e946",
   "metadata": {},
   "outputs": [
    {
     "name": "stdout",
     "output_type": "stream",
     "text": [
      "int32\n"
     ]
    }
   ],
   "source": [
    "#checking the datatype of the values in the array\n",
    "print(c.dtype)"
   ]
  },
  {
   "cell_type": "code",
   "execution_count": 56,
   "id": "fa4032c1-531f-4177-b764-5242c46c5926",
   "metadata": {},
   "outputs": [
    {
     "name": "stdout",
     "output_type": "stream",
     "text": [
      "[1, 2, 3, 4, 5, 6, 7, 8, 9, 10]\n",
      "[[7 9 1]\n",
      " [3 6 1]\n",
      " [9 5 6]]\n",
      "[[19 11 12]\n",
      " [18 15 10]\n",
      " [19 19 17]]\n",
      "[[26 20 13]\n",
      " [21 21 11]\n",
      " [28 24 23]]\n",
      "[[-12  -2 -11]\n",
      " [-15  -9  -9]\n",
      " [-10 -14 -11]]\n",
      "[[133  99  12]\n",
      " [ 54  90  10]\n",
      " [171  95 102]]\n",
      "[[0.36842105 0.81818182 0.08333333]\n",
      " [0.16666667 0.4        0.1       ]\n",
      " [0.47368421 0.26315789 0.35294118]]\n",
      "[[26 20 13]\n",
      " [21 21 11]\n",
      " [28 24 23]]\n",
      "[[-12  -2 -11]\n",
      " [-15  -9  -9]\n",
      " [-10 -14 -11]]\n",
      "[[133  99  12]\n",
      " [ 54  90  10]\n",
      " [171  95 102]]\n",
      "[[0.36842105 0.81818182 0.08333333]\n",
      " [0.16666667 0.4        0.1       ]\n",
      " [0.47368421 0.26315789 0.35294118]]\n"
     ]
    }
   ],
   "source": [
    "#mathemetical operations on a np array\n",
    "l1 = [1,2,3,4,5]\n",
    "l2 = [6,7,8,9,10]\n",
    "print(l1+l2)\n",
    "#joins the 2 list\n",
    "a = np.random.randint(0,10,(3,3))\n",
    "b = np.random.randint(10,20,(3,3))\n",
    "print(a)\n",
    "print(b)\n",
    "print(a+b)\n",
    "print(a-b)\n",
    "print(a*b)\n",
    "print(a/b)\n",
    "#another way\n",
    "print(np.add(a,b))\n",
    "print(np.subtract(a,b))\n",
    "print(np.multiply(a,b))\n",
    "print(np.divide(a,b))"
   ]
  },
  {
   "cell_type": "code",
   "execution_count": 59,
   "id": "21c19bc1-6867-45e2-b6fb-861cf593d2ce",
   "metadata": {},
   "outputs": [
    {
     "name": "stdout",
     "output_type": "stream",
     "text": [
      "[[1 1 9]\n",
      " [5 6 9]]\n",
      "(2, 3)\n",
      "[[1 5]\n",
      " [1 6]\n",
      " [9 9]]\n",
      "[[1 5]\n",
      " [1 6]\n",
      " [9 9]]\n"
     ]
    }
   ],
   "source": [
    "#array mmanipulation\n",
    "\n",
    "array = np.random.randint(0,10,(2,3))\n",
    "print(array)\n",
    "print(array.shape)\n",
    "print(np.transpose(array))\n",
    "print(array.T)"
   ]
  },
  {
   "cell_type": "code",
   "execution_count": 61,
   "id": "5776a642-5dc7-4e15-aa79-0da828c691f0",
   "metadata": {},
   "outputs": [
    {
     "name": "stdout",
     "output_type": "stream",
     "text": [
      "[[7 8 2]\n",
      " [0 2 3]]\n",
      "[[7 8]\n",
      " [2 0]\n",
      " [2 3]]\n"
     ]
    }
   ],
   "source": [
    "#reshaping a array\n",
    "a = np.random.randint(0,10,(2,3))\n",
    "print(a)\n",
    "b=a.reshape(3,2)\n",
    "print(b)\n"
   ]
  },
  {
   "cell_type": "code",
   "execution_count": null,
   "id": "1288197e-b6c1-40be-97a4-450fb341a0a3",
   "metadata": {},
   "outputs": [],
   "source": []
  }
 ],
 "metadata": {
  "kernelspec": {
   "display_name": "Python 3 (ipykernel)",
   "language": "python",
   "name": "python3"
  },
  "language_info": {
   "codemirror_mode": {
    "name": "ipython",
    "version": 3
   },
   "file_extension": ".py",
   "mimetype": "text/x-python",
   "name": "python",
   "nbconvert_exporter": "python",
   "pygments_lexer": "ipython3",
   "version": "3.13.0"
  }
 },
 "nbformat": 4,
 "nbformat_minor": 5
}

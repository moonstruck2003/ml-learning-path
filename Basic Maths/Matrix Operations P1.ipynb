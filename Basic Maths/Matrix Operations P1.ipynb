{
 "cells": [
  {
   "cell_type": "code",
   "execution_count": 1,
   "id": "010d7b84-2690-430f-bbb4-6c4f2b23e8cb",
   "metadata": {},
   "outputs": [],
   "source": [
    "import numpy as np\n"
   ]
  },
  {
   "cell_type": "code",
   "execution_count": 3,
   "id": "3c5b2539-5123-4863-b5d0-fb544a619c74",
   "metadata": {},
   "outputs": [
    {
     "name": "stdout",
     "output_type": "stream",
     "text": [
      "[[2 3]\n",
      " [6 7]]\n"
     ]
    }
   ],
   "source": [
    "#creating a matrix using numpy\n",
    "matrix_1 = np.array([[2,3],[6,7]])\n",
    "print(matrix_1)"
   ]
  },
  {
   "cell_type": "code",
   "execution_count": 4,
   "id": "91cae709-5721-44fb-8b8b-9da18ebe94a9",
   "metadata": {},
   "outputs": [
    {
     "data": {
      "text/plain": [
       "(2, 2)"
      ]
     },
     "execution_count": 4,
     "metadata": {},
     "output_type": "execute_result"
    }
   ],
   "source": [
    "matrix_1.shape"
   ]
  },
  {
   "cell_type": "code",
   "execution_count": 6,
   "id": "3a12fa5a-0bb3-43e2-88b1-6ac75da69573",
   "metadata": {},
   "outputs": [
    {
     "name": "stdout",
     "output_type": "stream",
     "text": [
      "[[  3   5   2]\n",
      " [ 34  63  67]\n",
      " [234  63  67]]\n"
     ]
    }
   ],
   "source": [
    " matrix_2 = np.array([[3,5,2],[34,63,67],[234,63,67]])\n",
    "print(matrix_2)"
   ]
  },
  {
   "cell_type": "code",
   "execution_count": 7,
   "id": "7ed1644d-5fcf-43a5-b1c5-0e3c0ee1fabb",
   "metadata": {},
   "outputs": [
    {
     "data": {
      "text/plain": [
       "(3, 3)"
      ]
     },
     "execution_count": 7,
     "metadata": {},
     "output_type": "execute_result"
    }
   ],
   "source": [
    "matrix_2.shape"
   ]
  },
  {
   "cell_type": "code",
   "execution_count": 8,
   "id": "5377f2d5-f07f-422f-88ff-9e1d729aee00",
   "metadata": {},
   "outputs": [],
   "source": [
    "#creating matrices with random values\n",
    "random_matrix = np.random.rand(3,3)"
   ]
  },
  {
   "cell_type": "code",
   "execution_count": 9,
   "id": "a072eaea-5ef3-4a8b-b09d-595926532395",
   "metadata": {},
   "outputs": [
    {
     "name": "stdout",
     "output_type": "stream",
     "text": [
      "[[0.0912319  0.08758329 0.29389467]\n",
      " [0.7953871  0.15745135 0.21506976]\n",
      " [0.01590444 0.83829699 0.14962757]]\n"
     ]
    }
   ],
   "source": [
    "print(random_matrix)"
   ]
  },
  {
   "cell_type": "code",
   "execution_count": 10,
   "id": "2dfed605-ec9a-4a7f-a160-f6bd783f030d",
   "metadata": {},
   "outputs": [
    {
     "name": "stdout",
     "output_type": "stream",
     "text": [
      "[[26 16 86 74 23]\n",
      " [83 28 55  7 39]\n",
      " [75  4 34  8 71]\n",
      " [52 34 23 22  4]]\n"
     ]
    }
   ],
   "source": [
    "#creating matrix with random integar \n",
    "random_integar_matrix = np.random.randint(100,size=(4,5))\n",
    "print(random_integar_matrix)"
   ]
  },
  {
   "cell_type": "code",
   "execution_count": 13,
   "id": "8a97ea32-b02d-4660-9e89-225ec56eca7b",
   "metadata": {},
   "outputs": [
    {
     "name": "stdout",
     "output_type": "stream",
     "text": [
      "[[1 1 1 1]\n",
      " [1 1 1 1]\n",
      " [1 1 1 1]]\n"
     ]
    }
   ],
   "source": [
    "#matrix with all the values as 1\n",
    "matrix_3 = np.ones([3,4],dtype=int)\n",
    "print(matrix_3)"
   ]
  },
  {
   "cell_type": "code",
   "execution_count": 15,
   "id": "620162ba-8daa-48b2-9264-e6e9fd703918",
   "metadata": {},
   "outputs": [
    {
     "name": "stdout",
     "output_type": "stream",
     "text": [
      "[[0 0 0 0]\n",
      " [0 0 0 0]\n",
      " [0 0 0 0]\n",
      " [0 0 0 0]]\n"
     ]
    }
   ],
   "source": [
    "#null or zero matrix\n",
    "null_matrix = np.zeros([4,4],dtype=int)\n",
    "print(null_matrix)"
   ]
  },
  {
   "cell_type": "code",
   "execution_count": 19,
   "id": "dac84201-9c2e-463c-b131-c2b29a171922",
   "metadata": {},
   "outputs": [
    {
     "name": "stdout",
     "output_type": "stream",
     "text": [
      "[[1 0 0]\n",
      " [0 1 0]\n",
      " [0 0 1]]\n"
     ]
    }
   ],
   "source": [
    "#identity matrix\n",
    "identity_matrix = np.eye(3,3,dtype=int)\n",
    "print(identity_matrix)"
   ]
  },
  {
   "cell_type": "code",
   "execution_count": 20,
   "id": "c9d40364-1bad-44ed-866b-57739df42cc5",
   "metadata": {},
   "outputs": [
    {
     "name": "stdout",
     "output_type": "stream",
     "text": [
      "[[81 14 30 84  1]\n",
      " [22 68  4 77 11]\n",
      " [98 92 22 99  0]\n",
      " [46 50 31 59 33]]\n"
     ]
    }
   ],
   "source": [
    "#transpose of a matrix\n",
    "#matrix with random int value\n",
    "a = np.random.randint(100,size=(4,5))\n",
    "print(a)"
   ]
  },
  {
   "cell_type": "code",
   "execution_count": 21,
   "id": "d92cfe50-254f-42b6-be10-210e3adc51f8",
   "metadata": {},
   "outputs": [
    {
     "name": "stdout",
     "output_type": "stream",
     "text": [
      "[[81 22 98 46]\n",
      " [14 68 92 50]\n",
      " [30  4 22 31]\n",
      " [84 77 99 59]\n",
      " [ 1 11  0 33]]\n"
     ]
    }
   ],
   "source": [
    "transpose_of_a =  np.transpose(a)\n",
    "print(transpose_of_a)"
   ]
  },
  {
   "cell_type": "code",
   "execution_count": null,
   "id": "4caebbce-8912-4d1c-aed0-4695c8335afc",
   "metadata": {},
   "outputs": [],
   "source": []
  }
 ],
 "metadata": {
  "kernelspec": {
   "display_name": "Python 3 (ipykernel)",
   "language": "python",
   "name": "python3"
  },
  "language_info": {
   "codemirror_mode": {
    "name": "ipython",
    "version": 3
   },
   "file_extension": ".py",
   "mimetype": "text/x-python",
   "name": "python",
   "nbconvert_exporter": "python",
   "pygments_lexer": "ipython3",
   "version": "3.13.0"
  }
 },
 "nbformat": 4,
 "nbformat_minor": 5
}

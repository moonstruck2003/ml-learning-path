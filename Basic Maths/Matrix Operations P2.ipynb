{
 "cells": [
  {
   "cell_type": "code",
   "execution_count": 1,
   "id": "ef948c66-1c61-4757-8eda-f881a4fac881",
   "metadata": {},
   "outputs": [],
   "source": [
    "import numpy as np\n"
   ]
  },
  {
   "cell_type": "code",
   "execution_count": 2,
   "id": "bf655d78-8054-4eba-8137-3e889c3de49f",
   "metadata": {},
   "outputs": [],
   "source": [
    "#Matrix Additoon"
   ]
  },
  {
   "cell_type": "code",
   "execution_count": 5,
   "id": "dbe2e1f9-0ab7-4c39-a42c-089009328697",
   "metadata": {},
   "outputs": [
    {
     "name": "stdout",
     "output_type": "stream",
     "text": [
      "[[ 6  8]\n",
      " [10 12]]\n"
     ]
    }
   ],
   "source": [
    "matrix_1 = np.array([[2,3],[4,5]])\n",
    "matrix_2 = np.array([[4,5],[6,7]])\n",
    "matrix_3 = matrix_2+matrix_1\n",
    "print(matrix_3)"
   ]
  },
  {
   "cell_type": "code",
   "execution_count": 6,
   "id": "dbf10a16-e1a9-42b8-b63a-ae132f4f5975",
   "metadata": {},
   "outputs": [
    {
     "data": {
      "text/plain": [
       "(2, 2)"
      ]
     },
     "execution_count": 6,
     "metadata": {},
     "output_type": "execute_result"
    }
   ],
   "source": [
    "matrix_3.shape"
   ]
  },
  {
   "cell_type": "code",
   "execution_count": 9,
   "id": "5fa186ee-a3b1-4c08-817e-e1d0535cf33e",
   "metadata": {},
   "outputs": [
    {
     "name": "stdout",
     "output_type": "stream",
     "text": [
      "[[ 6 15 14]\n",
      " [ 5 12 13]\n",
      " [ 7  8 17]]\n"
     ]
    }
   ],
   "source": [
    "#create 2 matrices with random values\n",
    "a = np.random.randint(10,size=(3,3))\n",
    "b = np.random.randint(10,size=(3,3))\n",
    "sum = np.add(a,b)\n",
    "print(sum)"
   ]
  },
  {
   "cell_type": "code",
   "execution_count": null,
   "id": "09231e2f-0b31-46a3-aed7-d8a58f312309",
   "metadata": {},
   "outputs": [],
   "source": [
    "#we get error when we want to add matrices that dont match the shape"
   ]
  },
  {
   "cell_type": "code",
   "execution_count": 10,
   "id": "d4b04ff8-a604-45ac-bd5b-7fba33728a81",
   "metadata": {},
   "outputs": [],
   "source": [
    "#matrix subtraction"
   ]
  },
  {
   "cell_type": "code",
   "execution_count": 11,
   "id": "dceaad33-2e3e-4088-ad2a-05a7bd359ad0",
   "metadata": {},
   "outputs": [
    {
     "name": "stdout",
     "output_type": "stream",
     "text": [
      "[[2 2]\n",
      " [2 2]]\n"
     ]
    }
   ],
   "source": [
    "matrix_1 = np.array([[2,3],[4,5]])\n",
    "matrix_2 = np.array([[4,5],[6,7]])\n",
    "matrix_3 = matrix_2-matrix_1\n",
    "print(matrix_3)"
   ]
  },
  {
   "cell_type": "code",
   "execution_count": 12,
   "id": "3c2bb160-aade-458e-bdb0-4a7631ef367d",
   "metadata": {},
   "outputs": [
    {
     "name": "stdout",
     "output_type": "stream",
     "text": [
      "[[-4  5  5]\n",
      " [ 2  1 -8]\n",
      " [ 4  3  0]]\n"
     ]
    }
   ],
   "source": [
    "#create 2 matrices with random values\n",
    "a = np.random.randint(10,size=(3,3))\n",
    "b = np.random.randint(10,size=(3,3))\n",
    "sub = np.subtract(a,b)\n",
    "print(sub)"
   ]
  },
  {
   "cell_type": "code",
   "execution_count": 13,
   "id": "41cbdda5-4e20-4a5d-8d9e-8341b692fe44",
   "metadata": {},
   "outputs": [],
   "source": [
    "#we get error when we want to add matrices that dont match the shape"
   ]
  },
  {
   "cell_type": "code",
   "execution_count": 16,
   "id": "6425a74a-55ea-442a-8d63-4c6feb15b2a6",
   "metadata": {},
   "outputs": [],
   "source": [
    "#Multiplying a matrix with a scaler\n"
   ]
  },
  {
   "cell_type": "code",
   "execution_count": 15,
   "id": "e8c19cc8-6830-4e56-a291-a410b9636093",
   "metadata": {},
   "outputs": [
    {
     "name": "stdout",
     "output_type": "stream",
     "text": [
      "[[15 20]\n",
      " [25 30]]\n"
     ]
    }
   ],
   "source": [
    "a = 5\n",
    "b = np.array([[3,4],[5,6]])\n",
    "c = a*b\n",
    "print(c)"
   ]
  },
  {
   "cell_type": "code",
   "execution_count": 17,
   "id": "3390621c-82c2-4bb7-982f-f92774619961",
   "metadata": {},
   "outputs": [
    {
     "name": "stdout",
     "output_type": "stream",
     "text": [
      "[[24  3  3]\n",
      " [15 15 18]\n",
      " [ 6 18  0]]\n"
     ]
    }
   ],
   "source": [
    "a = np.random.randint(10,size=(3,3))\n",
    "x = 3\n",
    "multiplied = np.multiply(a,x)\n",
    "print(multiplied)"
   ]
  },
  {
   "cell_type": "code",
   "execution_count": 18,
   "id": "63ec403e-cc84-453c-bc82-c86e80b61557",
   "metadata": {},
   "outputs": [],
   "source": [
    "#Multiplying Two Matrix"
   ]
  },
  {
   "cell_type": "code",
   "execution_count": 20,
   "id": "ea9f7363-e6bd-48ae-b27b-c300eeb63413",
   "metadata": {},
   "outputs": [
    {
     "name": "stdout",
     "output_type": "stream",
     "text": [
      "[[32 34 28]\n",
      " [15 13 14]\n",
      " [12 13 12]]\n"
     ]
    }
   ],
   "source": [
    "#create 2 matrices with random values\n",
    "a = np.random.randint(5,size=(3,4))\n",
    "b = np.random.randint(5,size=(4,3))\n",
    "product = np.dot(a,b)\n",
    "print(product)"
   ]
  },
  {
   "cell_type": "code",
   "execution_count": 21,
   "id": "ed2d746c-7185-495d-b11e-8b58a92cf445",
   "metadata": {},
   "outputs": [],
   "source": [
    "#we get error when we want to add matrices that dont match the shape"
   ]
  },
  {
   "cell_type": "code",
   "execution_count": 22,
   "id": "1ed7608c-0529-49a9-973e-31e964ebeaaa",
   "metadata": {},
   "outputs": [],
   "source": [
    "#Element wise Matrix Multiplication"
   ]
  },
  {
   "cell_type": "code",
   "execution_count": 23,
   "id": "2eab69d6-5ffd-4a4a-871e-74b9de67c6f9",
   "metadata": {},
   "outputs": [
    {
     "name": "stdout",
     "output_type": "stream",
     "text": [
      "[[27  3 40]\n",
      " [ 4 42 10]\n",
      " [36  0 18]]\n"
     ]
    }
   ],
   "source": [
    "a = np.random.randint(10,size=(3,3))\n",
    "b = np.random.randint(10,size=(3,3))\n",
    "product = np.multiply(a,b)\n",
    "print(product)"
   ]
  },
  {
   "cell_type": "code",
   "execution_count": null,
   "id": "4c16fa2f-0ca8-4762-aaeb-7b83e949cf7f",
   "metadata": {},
   "outputs": [],
   "source": []
  }
 ],
 "metadata": {
  "kernelspec": {
   "display_name": "Python 3 (ipykernel)",
   "language": "python",
   "name": "python3"
  },
  "language_info": {
   "codemirror_mode": {
    "name": "ipython",
    "version": 3
   },
   "file_extension": ".py",
   "mimetype": "text/x-python",
   "name": "python",
   "nbconvert_exporter": "python",
   "pygments_lexer": "ipython3",
   "version": "3.13.0"
  }
 },
 "nbformat": 4,
 "nbformat_minor": 5
}

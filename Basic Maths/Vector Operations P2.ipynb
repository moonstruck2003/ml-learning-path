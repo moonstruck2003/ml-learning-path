{
 "cells": [
  {
   "cell_type": "code",
   "execution_count": 1,
   "id": "957aedf4-06aa-42a1-ab0b-8fd8262eca9f",
   "metadata": {},
   "outputs": [],
   "source": [
    "import numpy as np\n",
    "import matplotlib.pyplot as plt\n",
    "import seaborn as sns"
   ]
  },
  {
   "cell_type": "code",
   "execution_count": 2,
   "id": "0018e2c2-074b-4bb5-879c-809e6249eae9",
   "metadata": {},
   "outputs": [],
   "source": [
    "#dot product of 2 vectosr \n",
    "a = np.array([2,3])\n",
    "b = np.array([4,4])\n",
    "adotb = np.dot(a,b)"
   ]
  },
  {
   "cell_type": "code",
   "execution_count": 3,
   "id": "0c05a527-325d-4c9a-8894-aa6e50851872",
   "metadata": {},
   "outputs": [
    {
     "name": "stdout",
     "output_type": "stream",
     "text": [
      "20\n"
     ]
    }
   ],
   "source": [
    "print(adotb)"
   ]
  },
  {
   "cell_type": "code",
   "execution_count": 4,
   "id": "bfae06d0-5dab-400b-a59a-80fb984bf6e3",
   "metadata": {},
   "outputs": [],
   "source": [
    "c = np.array([40,20,35])\n",
    "d = np.array([42,553,123])\n",
    "cdotd = np.dot(c,d)"
   ]
  },
  {
   "cell_type": "code",
   "execution_count": 5,
   "id": "2b8ce821-ddbc-4b70-a9d9-035c54c005de",
   "metadata": {},
   "outputs": [
    {
     "name": "stdout",
     "output_type": "stream",
     "text": [
      "17045\n"
     ]
    }
   ],
   "source": [
    "print(cdotd)"
   ]
  },
  {
   "cell_type": "code",
   "execution_count": 6,
   "id": "352669e4-dc91-4170-b67c-0ab18c333aa4",
   "metadata": {},
   "outputs": [
    {
     "name": "stdout",
     "output_type": "stream",
     "text": [
      "-4\n"
     ]
    },
    {
     "name": "stderr",
     "output_type": "stream",
     "text": [
      "C:\\Users\\PC\\AppData\\Local\\Temp\\ipykernel_7484\\142271211.py:4: DeprecationWarning: Arrays of 2-dimensional vectors are deprecated. Use arrays of 3-dimensional vectors instead. (deprecated in NumPy 2.0)\n",
      "  acrossb = np.cross(a,b)\n"
     ]
    }
   ],
   "source": [
    " #cross product of 2 vector\n",
    "a = np.array([2,3])\n",
    "b = np.array([4,4])\n",
    "acrossb = np.cross(a,b)\n",
    "print(acrossb)"
   ]
  },
  {
   "cell_type": "code",
   "execution_count": 7,
   "id": "2be39adf-56a0-4b57-a146-f987e15580dc",
   "metadata": {},
   "outputs": [
    {
     "name": "stdout",
     "output_type": "stream",
     "text": [
      "[-10 185 -90]\n"
     ]
    }
   ],
   "source": [
    "c = np.array([5,10,20])\n",
    "d = np.array([10,2,3])\n",
    "ccrossd = np.cross(c,d)\n",
    "print(ccrossd)"
   ]
  },
  {
   "cell_type": "code",
   "execution_count": 9,
   "id": "b8d7facd-8d3d-4608-9b1a-ee65d9b74262",
   "metadata": {},
   "outputs": [
    {
     "name": "stdout",
     "output_type": "stream",
     "text": [
      "[-1.12  0.84]\n"
     ]
    }
   ],
   "source": [
    " #projection of a vector on b vector\n",
    "a = np.array([2,5])\n",
    "b = np.array([8,-6])\n",
    "#magnitude of b vector\n",
    "magnitude_of_b_vect = np.sqrt(sum(b**2))\n",
    "proj_of_a_on_b = (np.dot(a,b)/magnitude_of_b_vect**2)*b\n",
    "print(proj_of_a_on_b)"
   ]
  },
  {
   "cell_type": "code",
   "execution_count": 11,
   "id": "ee044636-8433-4386-a1e3-3b228bfa27e6",
   "metadata": {},
   "outputs": [
    {
     "name": "stdout",
     "output_type": "stream",
     "text": [
      "[ 0.384 -0.288  0.24 ]\n"
     ]
    }
   ],
   "source": [
    " #projection of a vector on b vector\n",
    "a = np.array([2,5,4])\n",
    "b = np.array([8,-6,5])\n",
    "#magnitude of b vector\n",
    "magnitude_of_b_vect = np.sqrt(sum(b**2))\n",
    "proj_of_a_on_b = (np.dot(a,b)/magnitude_of_b_vect**2)*b\n",
    "print(proj_of_a_on_b)"
   ]
  },
  {
   "cell_type": "code",
   "execution_count": null,
   "id": "1b0ff96e-1c58-4c2a-8ee1-a9a7e1a9088a",
   "metadata": {},
   "outputs": [],
   "source": []
  }
 ],
 "metadata": {
  "kernelspec": {
   "display_name": "Python 3 (ipykernel)",
   "language": "python",
   "name": "python3"
  },
  "language_info": {
   "codemirror_mode": {
    "name": "ipython",
    "version": 3
   },
   "file_extension": ".py",
   "mimetype": "text/x-python",
   "name": "python",
   "nbconvert_exporter": "python",
   "pygments_lexer": "ipython3",
   "version": "3.13.0"
  }
 },
 "nbformat": 4,
 "nbformat_minor": 5
}

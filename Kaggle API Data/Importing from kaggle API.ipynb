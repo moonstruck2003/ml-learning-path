{
 "cells": [
  {
   "cell_type": "code",
   "execution_count": 1,
   "id": "91c36440-86d5-4c8c-b8a3-38e14ec52351",
   "metadata": {},
   "outputs": [
    {
     "name": "stdout",
     "output_type": "stream",
     "text": [
      "Requirement already satisfied: kaggle in c:\\users\\mridul\\appdata\\local\\programs\\python\\python313\\lib\\site-packages (1.6.17)\n",
      "Requirement already satisfied: six>=1.10 in c:\\users\\mridul\\appdata\\local\\programs\\python\\python313\\lib\\site-packages (from kaggle) (1.16.0)\n",
      "Requirement already satisfied: certifi>=2023.7.22 in c:\\users\\mridul\\appdata\\local\\programs\\python\\python313\\lib\\site-packages (from kaggle) (2024.8.30)\n",
      "Requirement already satisfied: python-dateutil in c:\\users\\mridul\\appdata\\local\\programs\\python\\python313\\lib\\site-packages (from kaggle) (2.9.0.post0)\n",
      "Requirement already satisfied: requests in c:\\users\\mridul\\appdata\\local\\programs\\python\\python313\\lib\\site-packages (from kaggle) (2.32.3)\n",
      "Requirement already satisfied: tqdm in c:\\users\\mridul\\appdata\\local\\programs\\python\\python313\\lib\\site-packages (from kaggle) (4.67.0)\n",
      "Requirement already satisfied: python-slugify in c:\\users\\mridul\\appdata\\local\\programs\\python\\python313\\lib\\site-packages (from kaggle) (8.0.4)\n",
      "Requirement already satisfied: urllib3 in c:\\users\\mridul\\appdata\\local\\programs\\python\\python313\\lib\\site-packages (from kaggle) (2.2.3)\n",
      "Requirement already satisfied: bleach in c:\\users\\mridul\\appdata\\local\\programs\\python\\python313\\lib\\site-packages (from kaggle) (6.2.0)\n",
      "Requirement already satisfied: webencodings in c:\\users\\mridul\\appdata\\local\\programs\\python\\python313\\lib\\site-packages (from bleach->kaggle) (0.5.1)\n",
      "Requirement already satisfied: text-unidecode>=1.3 in c:\\users\\mridul\\appdata\\local\\programs\\python\\python313\\lib\\site-packages (from python-slugify->kaggle) (1.3)\n",
      "Requirement already satisfied: charset-normalizer<4,>=2 in c:\\users\\mridul\\appdata\\local\\programs\\python\\python313\\lib\\site-packages (from requests->kaggle) (3.4.0)\n",
      "Requirement already satisfied: idna<4,>=2.5 in c:\\users\\mridul\\appdata\\local\\programs\\python\\python313\\lib\\site-packages (from requests->kaggle) (3.10)\n",
      "Requirement already satisfied: colorama in c:\\users\\mridul\\appdata\\local\\programs\\python\\python313\\lib\\site-packages (from tqdm->kaggle) (0.4.6)\n"
     ]
    },
    {
     "name": "stderr",
     "output_type": "stream",
     "text": [
      "\n",
      "[notice] A new release of pip is available: 24.2 -> 24.3.1\n",
      "[notice] To update, run: python.exe -m pip install --upgrade pip\n"
     ]
    }
   ],
   "source": [
    "#API - Application program interface\n",
    "#installing the kaggle library\n",
    "!pip install kaggle"
   ]
  },
  {
   "cell_type": "code",
   "execution_count": 2,
   "id": "7fc51dc1-9cf9-4f68-ba7a-0762e815ce38",
   "metadata": {},
   "outputs": [
    {
     "name": "stderr",
     "output_type": "stream",
     "text": [
      "The syntax of the command is incorrect.\n",
      "'cp' is not recognized as an internal or external command,\n",
      "operable program or batch file.\n",
      "'chmod' is not recognized as an internal or external command,\n",
      "operable program or batch file.\n"
     ]
    }
   ],
   "source": [
    "#upload your Kaggle.json file\n",
    "#configuring the path of kaggle.json file\n",
    "!mkdir -p ~/.kaggle\n",
    "!cp kaggle.json ~/.kaggle/\n",
    "!chmod 600 ~/.kaggle/kaggle.json"
   ]
  },
  {
   "cell_type": "code",
   "execution_count": 3,
   "id": "9eb569fb-10eb-49b7-91c2-96476f845257",
   "metadata": {},
   "outputs": [
    {
     "name": "stdout",
     "output_type": "stream",
     "text": [
      "ref                                                           title                                             size  lastUpdated          downloadCount  voteCount  usabilityRating  \n",
      "------------------------------------------------------------  -----------------------------------------------  -----  -------------------  -------------  ---------  ---------------  \n",
      "jacksondivakarr/phone-classification-dataset                  Phone Classification Dataset                     205KB  2023-12-12 15:21:07           6012         82  1.0              \n",
      "berkayeserr/phone-prices                                      Phone Prices                                      27KB  2023-09-06 15:09:29           3652         46  0.88235295       \n",
      "rkiattisak/mobile-phone-price                                 Mobile Phone Price                                 5KB  2023-03-09 04:15:24           8013         70  1.0              \n",
      "atefehmirnaseri/cell-phone-price                              Cell Phone Price                                  71KB  2024-04-19 11:16:35           3369         44  1.0              \n",
      "grikomsn/amazon-cell-phones-reviews                           Amazon Cell Phones Reviews                         9MB  2019-12-26 22:21:16          19661        230  1.0              \n",
      "muhammedtausif/best-selling-mobile-phones                     Mobile Phones                                      5KB  2022-10-08 11:57:44           4017        121  0.9117647        \n",
      "willianoliveiragibin/phone-information-2024                   Phone Information 2024                            74KB  2024-10-20 19:04:06           1832         29  1.0              \n",
      "PromptCloudHQ/amazon-reviews-unlocked-mobile-phones           Amazon Reviews: Unlocked Mobile Phones            33MB  2017-01-11 10:22:30          15992        179  1.0              \n",
      "prasertk/mobile-phone-rating                                  Mobile phone rating                                3KB  2022-02-13 08:02:17           2142         27  1.0              \n",
      "arwinneil/gsmarena-phone-dataset                              GSMArena Phone Dataset                           635KB  2017-06-29 07:09:31           6670         86  0.85294116       \n",
      "marcodena/mobile-phone-activity                               Mobile phone activity in a city                  242MB  2019-11-14 06:11:32          14559        275  0.7058824        \n",
      "dewangmoghe/mobile-phone-price-prediction                     Mobile Phone Price Prediction                     40KB  2024-05-20 14:32:40           3264         34  0.9411765        \n",
      "redpen12/mobile-phone-market-in-ghana                         Mobile Phone Market in Ghana                      49KB  2023-10-18 10:33:10            872         69  1.0              \n",
      "artempozdniakov/ukrainian-market-mobile-phones-data           Mobile Phones Data                                31KB  2021-02-05 10:48:09           7588         63  1.0              \n",
      "pratikgarai/mobile-phone-specifications-and-prices            Mobile Phone Specifications and Prices            30KB  2022-08-14 23:25:36           3704         52  0.8235294        \n",
      "mfekadu/darpa-timit-acousticphonetic-continuous-speech        DARPA TIMIT Acoustic-Phonetic Continuous Speech  829MB  2019-06-05 02:01:06          10629        139  0.8235294        \n",
      "ahsan81/used-handheld-device-data                             Used Phones & Tablets Pricing Dataset             77KB  2023-01-07 16:47:53           3318         60  1.0              \n",
      "ganjerlawrence/mobile-phone-price-prediction-cleaned-dataset  Mobile Phone Price Prediction cleaned Dataset      5KB  2024-06-30 11:56:32           2996         34  1.0              \n",
      "msainani/gsmarena-mobile-devices                              GSMArena Mobile Phone Devices                      1MB  2020-06-24 15:12:02           2751         56  0.9411765        \n",
      "jakubkhalponiak/phones-2024                                   Phones 2024                                        1MB  2024-10-28 16:48:42           2188         39  1.0              \n"
     ]
    }
   ],
   "source": [
    "!kaggle datasets list -s \"phone\""
   ]
  },
  {
   "cell_type": "code",
   "execution_count": 4,
   "id": "7be60927-b6f9-4625-95bb-b6ba5963c771",
   "metadata": {},
   "outputs": [
    {
     "name": "stdout",
     "output_type": "stream",
     "text": [
      "Dataset URL: https://www.kaggle.com/datasets/muhammedtausif/best-selling-mobile-phones \n",
      "License(s): CC0-1.0\n",
      "best-selling-mobile-phones .zip: Skipping, found more recently modified local copy (use --force to force download)\n"
     ]
    }
   ],
   "source": [
    "!kaggle datasets download -d \"muhammedtausif/best-selling-mobile-phones \""
   ]
  },
  {
   "cell_type": "code",
   "execution_count": 5,
   "id": "0d564fad-b306-408d-87df-e26aa6769ef3",
   "metadata": {},
   "outputs": [],
   "source": [
    "import zipfile"
   ]
  },
  {
   "cell_type": "code",
   "execution_count": 6,
   "id": "ae3c31f7-fd8f-4422-a7f6-20369c2d5c4b",
   "metadata": {},
   "outputs": [],
   "source": [
    "with zipfile.ZipFile(\"best-selling-mobile-phones .zip\") as file:\n",
    "    file.extractall(\"phones\")"
   ]
  },
  {
   "cell_type": "code",
   "execution_count": 7,
   "id": "22a60d19-d70b-4267-845b-86f807085eb7",
   "metadata": {},
   "outputs": [
    {
     "data": {
      "text/plain": [
       "['Best Selling Mobile Phones 2020.csv',\n",
       " 'best-selling-mobile-phones.csv',\n",
       " 'mobile-phone-brands-by-country.csv',\n",
       " 'total-phone-devices-by-company-2021.csv']"
      ]
     },
     "execution_count": 7,
     "metadata": {},
     "output_type": "execute_result"
    }
   ],
   "source": [
    "import os\n",
    "os.listdir(\"phones\")"
   ]
  },
  {
   "cell_type": "code",
   "execution_count": null,
   "id": "4f5141b2-d952-43f4-abb1-0bfb3386defa",
   "metadata": {},
   "outputs": [],
   "source": [
    "#Imporitng the earthquake dataset\n",
    "#API to fetch the dataset from kaggle\n"
   ]
  },
  {
   "cell_type": "code",
   "execution_count": null,
   "id": "1c3c5c68-63cd-46dc-800c-e41137084251",
   "metadata": {},
   "outputs": [],
   "source": [
    "!kaggle competitions download -c LANL-Earthquake-Prediction"
   ]
  },
  {
   "cell_type": "code",
   "execution_count": null,
   "id": "9e116075-c693-4086-bbbd-c1352153396c",
   "metadata": {},
   "outputs": [],
   "source": []
  }
 ],
 "metadata": {
  "kernelspec": {
   "display_name": "Python 3 (ipykernel)",
   "language": "python",
   "name": "python3"
  },
  "language_info": {
   "codemirror_mode": {
    "name": "ipython",
    "version": 3
   },
   "file_extension": ".py",
   "mimetype": "text/x-python",
   "name": "python",
   "nbconvert_exporter": "python",
   "pygments_lexer": "ipython3",
   "version": "3.13.0"
  }
 },
 "nbformat": 4,
 "nbformat_minor": 5
}

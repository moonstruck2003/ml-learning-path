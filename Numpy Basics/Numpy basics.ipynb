{
 "cells": [
  {
   "cell_type": "code",
   "execution_count": 1,
   "id": "354c3dde-3036-434b-a36c-adb18a270fa7",
   "metadata": {},
   "outputs": [],
   "source": [
    "import numpy as np"
   ]
  },
  {
   "cell_type": "code",
   "execution_count": 2,
   "id": "5fd1dd84-9d73-4bf3-8ad4-737f819ad2fc",
   "metadata": {},
   "outputs": [],
   "source": [
    "import numpy as np"
   ]
  },
  {
   "cell_type": "code",
   "execution_count": null,
   "id": "ac68d3eb-8bbd-4fa8-9e42-c15780a45436",
   "metadata": {},
   "outputs": [],
   "source": [
    "#time taken by list and numpy \n",
    "#list\n",
    "from time import process_time\n",
    "python_list = [i for i in range(1000000)]\n",
    "\n",
    "start_time = process_time()\n",
    "\n",
    "python_list = [i+5 for i in python_list]\n",
    "\n",
    "end_time = process_time()\n",
    "\n",
    "print(end_time - start_time)"
   ]
  },
  {
   "cell_type": "code",
   "execution_count": null,
   "id": "db0cd1a5-0872-41b1-a443-b18bbe69aef3",
   "metadata": {},
   "outputs": [],
   "source": [
    " #numpy\n",
    "np_array = np.array([i for i in range(1000000)])\n",
    "\n",
    "start_time = process_time()\n",
    "\n",
    "np_array += 5  \n",
    "\n",
    "end_time = process_time()\n",
    "\n",
    "print(end_time - start_time)"
   ]
  },
  {
   "cell_type": "code",
   "execution_count": null,
   "id": "162a3d35-cbba-4cca-bf81-6473059ec6af",
   "metadata": {},
   "outputs": [],
   "source": [
    "#numpy arrays\n",
    "\n",
    "list1 = [1,2,3,4,5] \n",
    "print(list1)\n",
    "type(list1)"
   ]
  },
  {
   "cell_type": "code",
   "execution_count": null,
   "id": "ffd94d26-a700-4720-ba1a-1ee0d3edd156",
   "metadata": {},
   "outputs": [],
   "source": [
    "np_array  = np.array([1,2,3,4,5])\n",
    "print(np_array)\n",
    "type(np_array)"
   ]
  },
  {
   "cell_type": "code",
   "execution_count": null,
   "id": "e18981e5-6877-4166-8c11-41dd79b63d65",
   "metadata": {},
   "outputs": [],
   "source": [
    "#creating a 1D array\n",
    "a = np.array([1,2,3,4])\n",
    "print(a)"
   ]
  },
  {
   "cell_type": "code",
   "execution_count": null,
   "id": "7113ee26-2ef8-48b9-a316-19b71a84f43a",
   "metadata": {},
   "outputs": [],
   "source": [
    "a.shape"
   ]
  },
  {
   "cell_type": "code",
   "execution_count": null,
   "id": "9d82c28f-4568-4c61-8317-c2e020efa3a4",
   "metadata": {},
   "outputs": [],
   "source": [
    "#2d array\n",
    "b = np.array([(1,3,4,5),(3,5,6,4)])\n",
    "b.shape"
   ]
  },
  {
   "cell_type": "code",
   "execution_count": null,
   "id": "b9a4970d-d65d-43ce-9b64-bbfd6b622b37",
   "metadata": {},
   "outputs": [],
   "source": [
    "#float type\n",
    "c = np.array([(1,2,3,4),(5,7,7,8)],dtype=float)\n",
    "print(c)"
   ]
  },
  {
   "cell_type": "code",
   "execution_count": null,
   "id": "d70be611-3014-4287-934a-1f3427b7a1b8",
   "metadata": {},
   "outputs": [],
   "source": [
    "#initials placeholders in numpy\n",
    "#create a numpy array of zeros\n",
    "x = np.zeros((4,5))\n",
    "print(x)"
   ]
  },
  {
   "cell_type": "code",
   "execution_count": null,
   "id": "e2bfaaf9-a284-4413-abee-491065dc659b",
   "metadata": {},
   "outputs": [],
   "source": [
    "#create numpy array as 1\n",
    "y = np.ones((3,3))\n",
    "print(y)"
   ]
  },
  {
   "cell_type": "code",
   "execution_count": null,
   "id": "29031867-c170-4a81-be0d-79c275585043",
   "metadata": {},
   "outputs": [],
   "source": [
    "#array with any values\n",
    "z = np.full((4,5),10)\n",
    "print(z)"
   ]
  },
  {
   "cell_type": "code",
   "execution_count": null,
   "id": "dfa426c6-ce33-41e2-a21e-5ec62d81f303",
   "metadata": {},
   "outputs": [],
   "source": [
    "#identity matrix\n",
    "a = np.eye(4)\n",
    "print(a)"
   ]
  },
  {
   "cell_type": "code",
   "execution_count": null,
   "id": "b676f1b8-9fe3-40aa-9f5f-c0f308dc6462",
   "metadata": {},
   "outputs": [],
   "source": [
    "#array with random value\n",
    "#every value between 0 to 1\n",
    "b =  np.random.random((3,4))\n",
    "print(b)"
   ]
  },
  {
   "cell_type": "code",
   "execution_count": null,
   "id": "d7e860d4-4665-4bd5-99cc-30b8fd079d5d",
   "metadata": {},
   "outputs": [],
   "source": [
    "#random integar values array within a specific range\n",
    "\n",
    "c= np.random.randint(10,100,(3,5))\n",
    "print(c)"
   ]
  },
  {
   "cell_type": "code",
   "execution_count": null,
   "id": "4360b67d-9c07-4cd7-86d2-19a8fd70528a",
   "metadata": {},
   "outputs": [],
   "source": [
    "#array if evenlt spaced values\n",
    "d = np.linspace(10,30,5)\n",
    "print(d)"
   ]
  },
  {
   "cell_type": "code",
   "execution_count": null,
   "id": "cbcc7b91-56a7-4174-832f-074ef9f7c609",
   "metadata": {},
   "outputs": [],
   "source": [
    "#array with evenly spaced values ---> specifying the steps\n",
    "\n",
    "e = np.arange(10,30,5)\n",
    "print(e)"
   ]
  },
  {
   "cell_type": "code",
   "execution_count": null,
   "id": "e82bd722-5986-49f9-ada9-93c5d275070b",
   "metadata": {},
   "outputs": [],
   "source": [
    "#convert a list to numpy array\n",
    "list2 = [10,20,30,40]\n",
    "np_array = np.asarray(list2)\n",
    "print(np_array)\n",
    "type(np_array)\n"
   ]
  },
  {
   "cell_type": "code",
   "execution_count": null,
   "id": "017c662a-1f66-4020-a28c-1a749f64a645",
   "metadata": {},
   "outputs": [],
   "source": [
    "#analysing a numpy array\n",
    "\n",
    "c= np.random.randint(10,90,(5,5))\n",
    "print(c)\n",
    "#array dimension\n",
    "print(c.shape)\n",
    "#number of dimension\n",
    "print(c.ndim)\n"
   ]
  },
  {
   "cell_type": "code",
   "execution_count": null,
   "id": "7b4f4df9-ba88-4a57-be7b-2e781c727ca7",
   "metadata": {},
   "outputs": [],
   "source": [
    " #no of elements\n",
    "print(c.size)"
   ]
  },
  {
   "cell_type": "code",
   "execution_count": null,
   "id": "4f89bb94-bb53-4b5c-a3be-95dcd1d1e946",
   "metadata": {},
   "outputs": [],
   "source": [
    "#checking the datatype of the values in the array\n",
    "print(c.dtype)"
   ]
  },
  {
   "cell_type": "code",
   "execution_count": null,
   "id": "fa4032c1-531f-4177-b764-5242c46c5926",
   "metadata": {},
   "outputs": [],
   "source": [
    "#mathemetical operations on a np array\n",
    "l1 = [1,2,3,4,5]\n",
    "l2 = [6,7,8,9,10]\n",
    "print(l1+l2)\n",
    "#joins the 2 list\n",
    "a = np.random.randint(0,10,(3,3))\n",
    "b = np.random.randint(10,20,(3,3))\n",
    "print(a)\n",
    "print(b)\n",
    "print(a+b)\n",
    "print(a-b)\n",
    "print(a*b)\n",
    "print(a/b)\n",
    "#another way\n",
    "print(np.add(a,b))\n",
    "print(np.subtract(a,b))\n",
    "print(np.multiply(a,b))\n",
    "print(np.divide(a,b))"
   ]
  },
  {
   "cell_type": "code",
   "execution_count": null,
   "id": "21c19bc1-6867-45e2-b6fb-861cf593d2ce",
   "metadata": {},
   "outputs": [],
   "source": [
    "#array mmanipulation\n",
    "\n",
    "array = np.random.randint(0,10,(2,3))\n",
    "print(array)\n",
    "print(array.shape)\n",
    "print(np.transpose(array))\n",
    "print(array.T)"
   ]
  },
  {
   "cell_type": "code",
   "execution_count": null,
   "id": "5776a642-5dc7-4e15-aa79-0da828c691f0",
   "metadata": {},
   "outputs": [],
   "source": [
    "#reshaping a array\n",
    "a = np.random.randint(0,10,(2,3))\n",
    "print(a)\n",
    "b=a.reshape(3,2)\n",
    "print(b)\n"
   ]
  },
  {
   "cell_type": "code",
   "execution_count": null,
   "id": "1288197e-b6c1-40be-97a4-450fb341a0a3",
   "metadata": {},
   "outputs": [],
   "source": []
  }
 ],
 "metadata": {
  "kernelspec": {
   "display_name": "Python 3 (ipykernel)",
   "language": "python",
   "name": "python3"
  },
  "language_info": {
   "codemirror_mode": {
    "name": "ipython",
    "version": 3
   },
   "file_extension": ".py",
   "mimetype": "text/x-python",
   "name": "python",
   "nbconvert_exporter": "python",
   "pygments_lexer": "ipython3",
   "version": "3.13.0"
  }
 },
 "nbformat": 4,
 "nbformat_minor": 5
}

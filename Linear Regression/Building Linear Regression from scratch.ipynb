{
 "cells": [
  {
   "cell_type": "code",
   "execution_count": 3,
   "id": "618a8276-bd41-483e-9db1-69acb66f5670",
   "metadata": {},
   "outputs": [
    {
     "ename": "SyntaxError",
     "evalue": "invalid syntax (3411578335.py, line 1)",
     "output_type": "error",
     "traceback": [
      "\u001b[1;36m  Cell \u001b[1;32mIn[3], line 1\u001b[1;36m\u001b[0m\n\u001b[1;33m    Linear Regression\u001b[0m\n\u001b[1;37m           ^\u001b[0m\n\u001b[1;31mSyntaxError\u001b[0m\u001b[1;31m:\u001b[0m invalid syntax\n"
     ]
    }
   ],
   "source": [
    "Linear Regression\n",
    "Y=wX+b\n",
    "Y= Dependent Variable\n",
    "X= Independent Variable\n",
    "w=weight\n",
    "b=bias"
   ]
  },
  {
   "cell_type": "code",
   "execution_count": null,
   "id": "87709006-08ba-4ed8-8b7c-85c97527f397",
   "metadata": {},
   "outputs": [],
   "source": [
    "Grad8ient Descent:\n",
    "Gradient Descent is an optimization algorithm used for minimizing the loss function in various machine \n",
    "learning algoriths. It is used for updating the parameters of the learning model.\n",
    "w = w-a*dw\n",
    "b = b-a*db\n",
    "Learning Rate:\n",
    "Learning rate is a tuning parameter in an optimization algorithm that determines the step size at each iteration\n",
    "while moving toward a minimum of a loss function.\n"
   ]
  }
 ],
 "metadata": {
  "kernelspec": {
   "display_name": "Python 3 (ipykernel)",
   "language": "python",
   "name": "python3"
  },
  "language_info": {
   "codemirror_mode": {
    "name": "ipython",
    "version": 3
   },
   "file_extension": ".py",
   "mimetype": "text/x-python",
   "name": "python",
   "nbconvert_exporter": "python",
   "pygments_lexer": "ipython3",
   "version": "3.13.0"
  }
 },
 "nbformat": 4,
 "nbformat_minor": 5
}

{
 "cells": [
  {
   "cell_type": "code",
   "execution_count": 3,
   "id": "618a8276-bd41-483e-9db1-69acb66f5670",
   "metadata": {},
   "outputs": [
    {
     "ename": "SyntaxError",
     "evalue": "invalid syntax (3411578335.py, line 1)",
     "output_type": "error",
     "traceback": [
      "\u001b[1;36m  Cell \u001b[1;32mIn[3], line 1\u001b[1;36m\u001b[0m\n\u001b[1;33m    Linear Regression\u001b[0m\n\u001b[1;37m           ^\u001b[0m\n\u001b[1;31mSyntaxError\u001b[0m\u001b[1;31m:\u001b[0m invalid syntax\n"
     ]
    }
   ],
   "source": [
    "Linear Regression\n",
    "Y=wX+b\n",
    "Y= Dependent Variable\n",
    "X= Independent Variable\n",
    "w=weight\n",
    "b=bias"
   ]
  },
  {
   "cell_type": "code",
   "execution_count": null,
   "id": "87709006-08ba-4ed8-8b7c-85c97527f397",
   "metadata": {},
   "outputs": [],
   "source": [
    "Grad8ient Descent:\n",
    "Gradient Descent is an optimization algorithm used for minimizing the loss function in various machine \n",
    "learning algoriths. It is used for updating the parameters of the learning model.\n",
    "w = w-a*dw  \n",
    "b = b-a*db\n",
    "Learning Rate:\n",
    "Learning rate is a tuning parameter in an optimization algorithm that determines the step size at each iteration\n",
    "while moving toward a minimum of a loss function.\n"
   ]
  },
  {
   "cell_type": "code",
   "execution_count": 1,
   "id": "1cc4b0c4-41db-42e5-bd3c-98d0c51a7268",
   "metadata": {},
   "outputs": [],
   "source": [
    "#imporing numpy library\n",
    "import numpy as np"
   ]
  },
  {
   "cell_type": "code",
   "execution_count": 6,
   "id": "d1c06961-c531-456f-bc4c-b8095e00a41b",
   "metadata": {},
   "outputs": [],
   "source": [
    "#Linear Regression\n",
    "class Linear_Regression:\n",
    "    #we are giving an instance of model, so we have to give the instance as \"self\"\n",
    "    #learning_rate,no_of_iterations are hyperParameters \n",
    "    # weight and bias are model parameters , we cant control\n",
    "\n",
    "        #initiating the parameters ( learning_rate, no_of_iterations):\n",
    "    def __init__(self,learning_rate,no_of_iterations):\n",
    "        self.learning_rate=learning_rate\n",
    "        self.no_of_iterations=no_of_iterations\n",
    "    \n",
    "        #X = features , Y=target\n",
    "    def fit(self,X,Y): \n",
    "        #no of training examples and no of features ,m = training example,rows , n = features,columns \n",
    "        self.m , self.n = X.shape  #no of rows and columns\n",
    "        #initating the weight ans bias \n",
    "        self.w=np.zeros(self.n)\n",
    "        self.b=0 #a model has only one b, so only 0\n",
    "        self.X=X\n",
    "        self.y=Y\n",
    "\n",
    "        #implementing Gradient Descent \n",
    "        for i in range (self.no_of_iterations):\n",
    "            self.update_weights()\n",
    "            \n",
    "\n",
    "    def update_weights(self,):\n",
    "        Y_prediction = self.predict(self.X)\n",
    "\n",
    "        #calculate the gredient \n",
    "        dw= - (2*(self.X.T).dot(self.Y-Y_prediction))/self.m\n",
    "        db = -(2*np.sum(self.Y - Y_prediction))/self.m\n",
    "\n",
    "        #updating the weights \n",
    "        self.w = self.w - self.learning_rate*dw\n",
    "        self.b = self.b - self.learning_rate*db\n",
    "\n",
    "\n",
    "    def predict(self,X):\n",
    "        return X.dot(self.w) + self.b\n",
    "        "
   ]
  },
  {
   "cell_type": "code",
   "execution_count": null,
   "id": "6493dec4-d367-4cc0-a6fe-cbf111d42ab8",
   "metadata": {},
   "outputs": [],
   "source": []
  }
 ],
 "metadata": {
  "kernelspec": {
   "display_name": "Python 3 (ipykernel)",
   "language": "python",
   "name": "python3"
  },
  "language_info": {
   "codemirror_mode": {
    "name": "ipython",
    "version": 3
   },
   "file_extension": ".py",
   "mimetype": "text/x-python",
   "name": "python",
   "nbconvert_exporter": "python",
   "pygments_lexer": "ipython3",
   "version": "3.13.0"
  }
 },
 "nbformat": 4,
 "nbformat_minor": 5
}

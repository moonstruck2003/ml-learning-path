{
 "cells": [
  {
   "cell_type": "code",
   "execution_count": 1,
   "id": "618a8276-bd41-483e-9db1-69acb66f5670",
   "metadata": {
    "scrolled": true
   },
   "outputs": [
    {
     "ename": "SyntaxError",
     "evalue": "invalid syntax (1259841139.py, line 1)",
     "output_type": "error",
     "traceback": [
      "\u001b[1;36m  Cell \u001b[1;32mIn[1], line 1\u001b[1;36m\u001b[0m\n\u001b[1;33m    Linear Regression\u001b[0m\n\u001b[1;37m           ^\u001b[0m\n\u001b[1;31mSyntaxError\u001b[0m\u001b[1;31m:\u001b[0m invalid syntax\n"
     ]
    }
   ],
   "source": [
    "Linear Regression\n",
    "Y=wX+b\n",
    "Y= Dependent Variable\n",
    "X= Independent Variable\n",
    "w=weight\n",
    "b=bias"
   ]
  },
  {
   "cell_type": "code",
   "execution_count": 2,
   "id": "87709006-08ba-4ed8-8b7c-85c97527f397",
   "metadata": {},
   "outputs": [
    {
     "ename": "SyntaxError",
     "evalue": "invalid syntax (459423958.py, line 1)",
     "output_type": "error",
     "traceback": [
      "\u001b[1;36m  Cell \u001b[1;32mIn[2], line 1\u001b[1;36m\u001b[0m\n\u001b[1;33m    Grad8ient Descent:\u001b[0m\n\u001b[1;37m              ^\u001b[0m\n\u001b[1;31mSyntaxError\u001b[0m\u001b[1;31m:\u001b[0m invalid syntax\n"
     ]
    }
   ],
   "source": [
    "Grad8ient Descent:\n",
    "Gradient Descent is an optimization algorithm used for minimizing the loss function in various machine \n",
    "learning algoriths. It is used for updating the parameters of the learning model.\n",
    "w = w-a*dw  \n",
    "b = b-a*db\n",
    "Learning Rate:\n",
    "Learning rate is a tuning parameter in an optimization algorithm that determines the step size at each iteration\n",
    "while moving toward a minimum of a loss function.\n"
   ]
  },
  {
   "cell_type": "code",
   "execution_count": 3,
   "id": "1cc4b0c4-41db-42e5-bd3c-98d0c51a7268",
   "metadata": {},
   "outputs": [],
   "source": [
    "#imporing numpy library\n",
    "import numpy as np"
   ]
  },
  {
   "cell_type": "code",
   "execution_count": 4,
   "id": "d1c06961-c531-456f-bc4c-b8095e00a41b",
   "metadata": {},
   "outputs": [],
   "source": [
    "# Linear Regression\n",
    "class Linear_Regression:\n",
    "    # We are giving an instance of the model, so we have to give the instance as \"self\"\n",
    "    # learning_rate, no_of_iterations are hyperparameters\n",
    "    # weight and bias are model parameters, we can't control them directly\n",
    "\n",
    "    # Initiating the parameters (learning_rate, no_of_iterations):\n",
    "    def __init__(self, learning_rate, no_of_iterations):\n",
    "        self.learning_rate = learning_rate\n",
    "        self.no_of_iterations = no_of_iterations\n",
    "\n",
    "    # X = features, y = target\n",
    "    def fit(self, X, y):\n",
    "        # Number of training examples and number of features\n",
    "        # m = number of training examples (rows), n = number of features (columns)\n",
    "        self.m, self.n = X.shape  # Number of rows and columns\n",
    "\n",
    "        # Initiating the weight and bias\n",
    "        self.w = np.zeros(self.n)  # Initialize weights to zeros\n",
    "        self.b = 0  # A model has only one bias, so initialize to 0\n",
    "\n",
    "        # Store features and target\n",
    "        self.X = X\n",
    "        self.y = y  # Use lowercase 'y' consistently\n",
    "\n",
    "        # Implementing Gradient Descent\n",
    "        for i in range(self.no_of_iterations):\n",
    "            self.update_weights()\n",
    "\n",
    "    def update_weights(self):\n",
    "        # Predict the target values\n",
    "        Y_prediction = self.predict(self.X)\n",
    "\n",
    "        # Calculate the gradient\n",
    "        dw = -(2 * (self.X.T).dot(self.y - Y_prediction)) / self.m  # Gradient for weights\n",
    "        db = -(2 * np.sum(self.y - Y_prediction)) / self.m  # Gradient for bias\n",
    "\n",
    "        # Updating the weights\n",
    "        self.w = self.w - self.learning_rate * dw\n",
    "        self.b = self.b - self.learning_rate * db\n",
    "\n",
    "    def predict(self, X):\n",
    "        # Predict the target values using the linear equation\n",
    "        return X.dot(self.w) + self.b"
   ]
  },
  {
   "cell_type": "code",
   "execution_count": 5,
   "id": "6493dec4-d367-4cc0-a6fe-cbf111d42ab8",
   "metadata": {},
   "outputs": [
    {
     "ename": "SyntaxError",
     "evalue": "illegal target for annotation (287500830.py, line 4)",
     "output_type": "error",
     "traceback": [
      "\u001b[1;36m  Cell \u001b[1;32mIn[5], line 4\u001b[1;36m\u001b[0m\n\u001b[1;33m    Step - 1 : Set learning rate and number of iterations , Initiate random wight and bias value.\u001b[0m\n\u001b[1;37m    ^\u001b[0m\n\u001b[1;31mSyntaxError\u001b[0m\u001b[1;31m:\u001b[0m illegal target for annotation\n"
     ]
    }
   ],
   "source": [
    "#Using linear Regression model for prediction \n",
    "\n",
    "#Work Flow of the Linear Regression Model\n",
    "Step - 1 : Set learning rate and number of iterations , Initiate random wight and bias value.\n",
    "Step - 2 : Build Linear Regression Equation . (y = wx+ b)\n",
    "Step - 3 : Find the \"y pred\" value for given x value for the corresponding wight and bias.\n",
    "Step - 4 : Check the loss function for these parameter values .(difference between \"y pred\" and \"true y\"\n",
    "Step - 5 : Update the parameter values using Gradient Descent. (new weight and bias value)\n",
    "Step - 6 : Step 3,4,5 are repeated till we get minimum loss function.\n",
    "\n",
    "Finally we will get the best model (best weight and bias value) as it has minimum loss funtion. "
   ]
  },
  {
   "cell_type": "code",
   "execution_count": 6,
   "id": "2030793c-3f2e-45f4-9175-4f6992d9d7a4",
   "metadata": {},
   "outputs": [],
   "source": [
    "import pandas as pd\n",
    "from sklearn.model_selection import train_test_split \n",
    "import matplotlib.pyplot as plt"
   ]
  },
  {
   "cell_type": "code",
   "execution_count": 7,
   "id": "95575002-b8c4-4304-b3cf-557b954584fe",
   "metadata": {},
   "outputs": [],
   "source": [
    "#Data Pre-Processing\n",
    "#loading the data from csv file to pandas dataframe \n",
    "salary = pd.read_csv(\"salary_data.csv\")"
   ]
  },
  {
   "cell_type": "code",
   "execution_count": 8,
   "id": "de5eccb4-058e-414d-896a-a7a6de46dbea",
   "metadata": {},
   "outputs": [
    {
     "data": {
      "text/html": [
       "<div>\n",
       "<style scoped>\n",
       "    .dataframe tbody tr th:only-of-type {\n",
       "        vertical-align: middle;\n",
       "    }\n",
       "\n",
       "    .dataframe tbody tr th {\n",
       "        vertical-align: top;\n",
       "    }\n",
       "\n",
       "    .dataframe thead th {\n",
       "        text-align: right;\n",
       "    }\n",
       "</style>\n",
       "<table border=\"1\" class=\"dataframe\">\n",
       "  <thead>\n",
       "    <tr style=\"text-align: right;\">\n",
       "      <th></th>\n",
       "      <th>YearsExperience</th>\n",
       "      <th>Salary</th>\n",
       "    </tr>\n",
       "  </thead>\n",
       "  <tbody>\n",
       "    <tr>\n",
       "      <th>0</th>\n",
       "      <td>1.1</td>\n",
       "      <td>39343</td>\n",
       "    </tr>\n",
       "    <tr>\n",
       "      <th>1</th>\n",
       "      <td>1.3</td>\n",
       "      <td>46205</td>\n",
       "    </tr>\n",
       "    <tr>\n",
       "      <th>2</th>\n",
       "      <td>1.5</td>\n",
       "      <td>37731</td>\n",
       "    </tr>\n",
       "    <tr>\n",
       "      <th>3</th>\n",
       "      <td>2.0</td>\n",
       "      <td>43525</td>\n",
       "    </tr>\n",
       "    <tr>\n",
       "      <th>4</th>\n",
       "      <td>2.2</td>\n",
       "      <td>39891</td>\n",
       "    </tr>\n",
       "  </tbody>\n",
       "</table>\n",
       "</div>"
      ],
      "text/plain": [
       "   YearsExperience  Salary\n",
       "0              1.1   39343\n",
       "1              1.3   46205\n",
       "2              1.5   37731\n",
       "3              2.0   43525\n",
       "4              2.2   39891"
      ]
     },
     "execution_count": 8,
     "metadata": {},
     "output_type": "execute_result"
    }
   ],
   "source": [
    "salary.head()"
   ]
  },
  {
   "cell_type": "code",
   "execution_count": 9,
   "id": "554d3ef5-8a62-488e-9e25-020a022ee471",
   "metadata": {},
   "outputs": [
    {
     "data": {
      "text/html": [
       "<div>\n",
       "<style scoped>\n",
       "    .dataframe tbody tr th:only-of-type {\n",
       "        vertical-align: middle;\n",
       "    }\n",
       "\n",
       "    .dataframe tbody tr th {\n",
       "        vertical-align: top;\n",
       "    }\n",
       "\n",
       "    .dataframe thead th {\n",
       "        text-align: right;\n",
       "    }\n",
       "</style>\n",
       "<table border=\"1\" class=\"dataframe\">\n",
       "  <thead>\n",
       "    <tr style=\"text-align: right;\">\n",
       "      <th></th>\n",
       "      <th>YearsExperience</th>\n",
       "      <th>Salary</th>\n",
       "    </tr>\n",
       "  </thead>\n",
       "  <tbody>\n",
       "    <tr>\n",
       "      <th>25</th>\n",
       "      <td>9.0</td>\n",
       "      <td>105582</td>\n",
       "    </tr>\n",
       "    <tr>\n",
       "      <th>26</th>\n",
       "      <td>9.5</td>\n",
       "      <td>116969</td>\n",
       "    </tr>\n",
       "    <tr>\n",
       "      <th>27</th>\n",
       "      <td>9.6</td>\n",
       "      <td>112635</td>\n",
       "    </tr>\n",
       "    <tr>\n",
       "      <th>28</th>\n",
       "      <td>10.3</td>\n",
       "      <td>122391</td>\n",
       "    </tr>\n",
       "    <tr>\n",
       "      <th>29</th>\n",
       "      <td>10.5</td>\n",
       "      <td>121872</td>\n",
       "    </tr>\n",
       "  </tbody>\n",
       "</table>\n",
       "</div>"
      ],
      "text/plain": [
       "    YearsExperience  Salary\n",
       "25              9.0  105582\n",
       "26              9.5  116969\n",
       "27              9.6  112635\n",
       "28             10.3  122391\n",
       "29             10.5  121872"
      ]
     },
     "execution_count": 9,
     "metadata": {},
     "output_type": "execute_result"
    }
   ],
   "source": [
    "salary.tail()"
   ]
  },
  {
   "cell_type": "code",
   "execution_count": 10,
   "id": "ed973838-90eb-4d10-810e-88f7cd56d94f",
   "metadata": {},
   "outputs": [
    {
     "data": {
      "text/plain": [
       "(30, 2)"
      ]
     },
     "execution_count": 10,
     "metadata": {},
     "output_type": "execute_result"
    }
   ],
   "source": [
    "salary.shape"
   ]
  },
  {
   "cell_type": "code",
   "execution_count": 11,
   "id": "dbf10acd-102d-44ab-aff8-01fa535e1f5c",
   "metadata": {},
   "outputs": [
    {
     "data": {
      "text/plain": [
       "YearsExperience    0\n",
       "Salary             0\n",
       "dtype: int64"
      ]
     },
     "execution_count": 11,
     "metadata": {},
     "output_type": "execute_result"
    }
   ],
   "source": [
    "#checking for missing values\n",
    "salary.isnull().sum()"
   ]
  },
  {
   "cell_type": "code",
   "execution_count": 12,
   "id": "d502c3cf-b0ff-4c7c-8611-811bce240faf",
   "metadata": {},
   "outputs": [],
   "source": [
    "#splitting the feature and target\n",
    "x=salary.iloc[:,:-1].values\n",
    "y=salary.iloc[:,1].values\n"
   ]
  },
  {
   "cell_type": "code",
   "execution_count": 13,
   "id": "1f7a5609-0180-4ca6-ac74-f7f9fd07a766",
   "metadata": {},
   "outputs": [
    {
     "name": "stdout",
     "output_type": "stream",
     "text": [
      "[[ 1.1]\n",
      " [ 1.3]\n",
      " [ 1.5]\n",
      " [ 2. ]\n",
      " [ 2.2]\n",
      " [ 2.9]\n",
      " [ 3. ]\n",
      " [ 3.2]\n",
      " [ 3.2]\n",
      " [ 3.7]\n",
      " [ 3.9]\n",
      " [ 4. ]\n",
      " [ 4. ]\n",
      " [ 4.1]\n",
      " [ 4.5]\n",
      " [ 4.9]\n",
      " [ 5.1]\n",
      " [ 5.3]\n",
      " [ 5.9]\n",
      " [ 6. ]\n",
      " [ 6.8]\n",
      " [ 7.1]\n",
      " [ 7.9]\n",
      " [ 8.2]\n",
      " [ 8.7]\n",
      " [ 9. ]\n",
      " [ 9.5]\n",
      " [ 9.6]\n",
      " [10.3]\n",
      " [10.5]]\n"
     ]
    }
   ],
   "source": [
    "print(x)"
   ]
  },
  {
   "cell_type": "code",
   "execution_count": 14,
   "id": "85ffc45e-b046-45dd-ac0b-01daa59d4a35",
   "metadata": {},
   "outputs": [
    {
     "name": "stdout",
     "output_type": "stream",
     "text": [
      "[ 39343  46205  37731  43525  39891  56642  60150  54445  64445  57189\n",
      "  63218  55794  56957  57081  61111  67938  66029  83088  81363  93940\n",
      "  91738  98273 101302 113812 109431 105582 116969 112635 122391 121872]\n"
     ]
    }
   ],
   "source": [
    "print(y)"
   ]
  },
  {
   "cell_type": "code",
   "execution_count": 15,
   "id": "dd961ced-84e2-4fc7-9379-6c884515a01c",
   "metadata": {},
   "outputs": [],
   "source": [
    "#splitting the dataset into training and test data\n",
    "x_train,x_test,y_train,y_test = train_test_split(x,y,test_size=0.33, random_state=43)"
   ]
  },
  {
   "cell_type": "code",
   "execution_count": 16,
   "id": "fd4e03d0-bee1-4c81-8063-589a44be1f70",
   "metadata": {},
   "outputs": [],
   "source": [
    "#Training the linear regression model\n",
    "model = Linear_Regression(learning_rate=0.02,no_of_iterations=1500)"
   ]
  },
  {
   "cell_type": "code",
   "execution_count": 17,
   "id": "ded09865-3540-483b-a81f-119314360bcb",
   "metadata": {},
   "outputs": [],
   "source": [
    "model.fit(x_train,y_train)"
   ]
  },
  {
   "cell_type": "code",
   "execution_count": 18,
   "id": "b327efc2-403f-466e-b3fb-609aa1c2b380",
   "metadata": {},
   "outputs": [
    {
     "name": "stdout",
     "output_type": "stream",
     "text": [
      "weigts  9674.48585837864\n",
      "bias  25128.417297747197\n"
     ]
    }
   ],
   "source": [
    "#Printing the parameter values(wights and biases)\n",
    "\n",
    "print(\"weigts \",model.w[0])\n",
    "print(\"bias \",model.b)"
   ]
  },
  {
   "cell_type": "code",
   "execution_count": 1,
   "id": "4c9ec5ee-0153-4120-aaa0-4e7467328a66",
   "metadata": {},
   "outputs": [
    {
     "ename": "NameError",
     "evalue": "name 'model' is not defined",
     "output_type": "error",
     "traceback": [
      "\u001b[1;31m---------------------------------------------------------------------------\u001b[0m",
      "\u001b[1;31mNameError\u001b[0m                                 Traceback (most recent call last)",
      "Cell \u001b[1;32mIn[1], line 2\u001b[0m\n\u001b[0;32m      1\u001b[0m \u001b[38;5;66;03m#predict salary value for test data\u001b[39;00m\n\u001b[1;32m----> 2\u001b[0m test_data_prediction \u001b[38;5;241m=\u001b[39m \u001b[43mmodel\u001b[49m\u001b[38;5;241m.\u001b[39mpredict(x_test)\n",
      "\u001b[1;31mNameError\u001b[0m: name 'model' is not defined"
     ]
    }
   ],
   "source": [
    "#predict salary value for test data\n",
    "test_data_prediction = model.predict(x_test)"
   ]
  },
  {
   "cell_type": "code",
   "execution_count": null,
   "id": "68c02702-cb48-4513-9e1f-5324c5c4ce03",
   "metadata": {},
   "outputs": [],
   "source": []
  }
 ],
 "metadata": {
  "kernelspec": {
   "display_name": "Python 3 (ipykernel)",
   "language": "python",
   "name": "python3"
  },
  "language_info": {
   "codemirror_mode": {
    "name": "ipython",
    "version": 3
   },
   "file_extension": ".py",
   "mimetype": "text/x-python",
   "name": "python",
   "nbconvert_exporter": "python",
   "pygments_lexer": "ipython3",
   "version": "3.13.0"
  }
 },
 "nbformat": 4,
 "nbformat_minor": 5
}
